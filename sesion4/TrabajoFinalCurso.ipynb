{
  "nbformat": 4,
  "nbformat_minor": 0,
  "metadata": {
    "colab": {
      "name": "TrabajoFinalCurso.ipynb",
      "provenance": [],
      "collapsed_sections": []
    },
    "kernelspec": {
      "name": "python3",
      "display_name": "Python 3"
    },
    "language_info": {
      "name": "python"
    }
  },
  "cells": [
    {
      "cell_type": "markdown",
      "metadata": {
        "id": "cd_MME9Ak8Jd"
      },
      "source": [
        "Grupo de trabajo (CGR-Costa Rica):\n",
        "\n",
        "Carmen Garro Carranza   \n",
        "Hazel Mena Monge    \n",
        "Juan Alejandro Herrera López\n"
      ]
    },
    {
      "cell_type": "markdown",
      "metadata": {
        "id": "Bu2q6QKiQds-"
      },
      "source": [
        "# 1"
      ]
    },
    {
      "cell_type": "markdown",
      "metadata": {
        "id": "rzn3Uy21n1kJ"
      },
      "source": [
        "1.\tUtilizando la metodología de Cox-Tukey lleve a cabo la identificación de proyectos de arreglos de vías terciarias con valores extremos en el total de proyectos.\n",
        "Elabore un histograma de la variable transformada."
      ]
    },
    {
      "cell_type": "markdown",
      "metadata": {
        "id": "Vli6qdOmculQ"
      },
      "source": [
        "## Box-Cox Diagrama de caja y bigotes"
      ]
    },
    {
      "cell_type": "markdown",
      "metadata": {
        "id": "mqtBRUlWq65j"
      },
      "source": [
        "El boxplot se calcula con base a los cuartiles:\n",
        "\n",
        "\n",
        "1.   Se ordenan los datos de menor a mayor\n",
        "2.   **Cuartil 1**, es el valor a partir del cual el 25% de los datos tienen un valor menor a este. **Cuartil 2**, igual que el 1 pero con el 50% de los datos. Es la mediana. Es robusta, o sea no es afectada por valores extremos. **Cuartil \n",
        "3** valor para el 75% de los datos. \n",
        "3.   Se calcula el **Rango Intercuartil**, RI = q3 - q1\n",
        "4.   Se calculan los bigotes inferior y superior. LW = q1 - k * IR. Tukey propuso k = 1.5. Si el valor resultante es menor al mínimo de los datos, se deja el mínimo como bigote inferior. $$LW = max(min(x), q1-k * IR)$$ Y el bigote superior sería: $$UW = min(max(x), q3 + k*IR)$$\n",
        "\n",
        "*Bajo las reglas de Tukey, todo dato que está alejado más de 1.5 veces el Rango Intercuartil más cercano se le atribuye ser anómalo.*\n",
        "\n",
        "* Filzmoser, Gussebauer y Templ (2016) proponen realizar una transformación previa para datos con distribuciones asimétricas.\n",
        "\n",
        "$$y(\\lambda) = \\begin{cases}  \\frac{x^{\\lambda}-1}{\\lambda}, &  \\mbox{si } \\lambda \\ne 0 \\\\ log{(\\lambda)}, & \\mbox{si } \\lambda = 0 \\end{cases}   $$\n",
        "\n",
        "El $\\lambda$ es un valor entre -5 y 5 que resulta en la mejor aproximación a la curva normal.\n"
      ]
    },
    {
      "cell_type": "markdown",
      "metadata": {
        "id": "2rIhs_mid3aY"
      },
      "source": [
        "## Ejercicio"
      ]
    },
    {
      "cell_type": "code",
      "metadata": {
        "id": "8tu4D50XZ3Nd"
      },
      "source": [
        "import numpy as np\n",
        "from scipy import stats\n",
        "import pandas as pd\n",
        "\n",
        "import seaborn as sns\n",
        "import matplotlib.pyplot as plt"
      ],
      "execution_count": null,
      "outputs": []
    },
    {
      "cell_type": "code",
      "metadata": {
        "colab": {
          "base_uri": "https://localhost:8080/"
        },
        "id": "FuQSWTJtoiSq",
        "outputId": "2927aa89-38c7-494b-8275-d1fb1a1f60ca"
      },
      "source": [
        "\n",
        "url = 'https://raw.githubusercontent.com/josezea/Anomalias/main/sesion4/regalias_viasterciarias.csv'\n",
        "regalias = pd.read_csv(url)\n",
        "regalias.info()"
      ],
      "execution_count": null,
      "outputs": [
        {
          "output_type": "stream",
          "text": [
            "<class 'pandas.core.frame.DataFrame'>\n",
            "RangeIndex: 207 entries, 0 to 206\n",
            "Data columns (total 19 columns):\n",
            " #   Column               Non-Null Count  Dtype  \n",
            "---  ------               --------------  -----  \n",
            " 0   Unnamed: 0           207 non-null    int64  \n",
            " 1   id_proyecto          207 non-null    object \n",
            " 2   nombre_del_proyecto  207 non-null    object \n",
            " 3   nombre_ocad          207 non-null    object \n",
            " 4   region               207 non-null    object \n",
            " 5   departamento         207 non-null    object \n",
            " 6   sector_suifp         207 non-null    object \n",
            " 7   programa             207 non-null    object \n",
            " 8   subprograma          207 non-null    object \n",
            " 9   avance_fisico        207 non-null    float64\n",
            " 10  avance_financiero    207 non-null    float64\n",
            " 11  estado_detalle       207 non-null    object \n",
            " 12  estado_general       207 non-null    object \n",
            " 13  anno                 207 non-null    int64  \n",
            " 14  valor_sgr            207 non-null    int64  \n",
            " 15  valor_nación         207 non-null    int64  \n",
            " 16  valor_otros          207 non-null    int64  \n",
            " 17  total_proyecto       207 non-null    int64  \n",
            " 18  pctg_sgr             207 non-null    float64\n",
            "dtypes: float64(3), int64(6), object(10)\n",
            "memory usage: 30.9+ KB\n"
          ],
          "name": "stdout"
        }
      ]
    },
    {
      "cell_type": "code",
      "metadata": {
        "colab": {
          "base_uri": "https://localhost:8080/"
        },
        "id": "W6s5_9_WiSal",
        "outputId": "0f65deda-8268-43e9-9203-6a8a48ae634b"
      },
      "source": [
        "#regalias.total_proyecto\n",
        "#valores transformados y\n",
        "#lambda que se uso de potencia f_lambda\n",
        "y, f_lambda = stats.boxcox(regalias.total_proyecto)\n",
        "f_lambda"
      ],
      "execution_count": null,
      "outputs": [
        {
          "output_type": "execute_result",
          "data": {
            "text/plain": [
              "-0.051858459461380214"
            ]
          },
          "metadata": {
            "tags": []
          },
          "execution_count": 34
        }
      ]
    },
    {
      "cell_type": "code",
      "metadata": {
        "colab": {
          "base_uri": "https://localhost:8080/",
          "height": 283
        },
        "id": "MB-YosG5oDTp",
        "outputId": "cb24b5ef-4d2a-435f-91f7-dfa6f1af889e"
      },
      "source": [
        "#histograma\n",
        "pd.Series(y).hist()"
      ],
      "execution_count": null,
      "outputs": [
        {
          "output_type": "execute_result",
          "data": {
            "text/plain": [
              "<matplotlib.axes._subplots.AxesSubplot at 0x7fe40cecac50>"
            ]
          },
          "metadata": {
            "tags": []
          },
          "execution_count": 35
        },
        {
          "output_type": "display_data",
          "data": {
            "image/png": "[encoded data removed]",
            "text/plain": [
              "<Figure size 432x288 with 1 Axes>"
            ]
          },
          "metadata": {
            "tags": [],
            "needs_background": "light"
          }
        }
      ]
    },
    {
      "cell_type": "code",
      "metadata": {
        "colab": {
          "base_uri": "https://localhost:8080/",
          "height": 299
        },
        "id": "-i1x1Mpjxx9s",
        "outputId": "ceef0cd0-dc16-42bb-81f9-b1ff4d5bae81"
      },
      "source": [
        "sns.distplot(y, hist = True, kde = True,\n",
        "             kde_kws= {'shade':True, 'linewidth':2},\n",
        "             label = 'Variable transformada',\n",
        "             color = 'green').set_title('Variable transformada')"
      ],
      "execution_count": null,
      "outputs": [
        {
          "output_type": "execute_result",
          "data": {
            "text/plain": [
              "Text(0.5, 1.0, 'Variable transformada')"
            ]
          },
          "metadata": {
            "tags": []
          },
          "execution_count": 36
        },
        {
          "output_type": "display_data",
          "data": {
            "image/png": "[encoded data removed]",
            "text/plain": [
              "<Figure size 432x288 with 1 Axes>"
            ]
          },
          "metadata": {
            "tags": [],
            "needs_background": "light"
          }
        }
      ]
    },
    {
      "cell_type": "markdown",
      "metadata": {
        "id": "fkDZ9smmoZsK"
      },
      "source": [
        "a. El valor de lambda es: **-0.0518**"
      ]
    },
    {
      "cell_type": "markdown",
      "metadata": {
        "id": "obMVSbuIoitJ"
      },
      "source": [
        "b. Identifique, una vez que estén los valores transformados, los outliers detectados con la regla de Tukey (usando un valor de k=1.5). "
      ]
    },
    {
      "cell_type": "code",
      "metadata": {
        "id": "ACf8nCxeo3YL"
      },
      "source": [
        "##calculos para el diagrama de bigotes\n",
        "\n",
        "#import numpy as np\n",
        "def fivenum(x, range = 1.5, nan_remove = True):\n",
        "  \"\"\"DEvuelve los cinco números de Tukey (mínimo, bigote inferior, mediana,\n",
        "  bigote superior, maximo) para una lista, arreglo univariado de numpy o serie de pandas\"\"\"\n",
        "  if(isinstance(x, list)):\n",
        "    x = np.array(x)\n",
        "  try:\n",
        "    np.sum(x)\n",
        "  except TypeError :\n",
        "    print('Error: you must provide a list or array of only numbers')\n",
        "  if(nan_remove == True):\n",
        "    y = x[~np.isnan(x)]\n",
        "    q1 = np.percentile(y, 25)\n",
        "    q3 = np.percentile(y,75)\n",
        "    md = np.median(y)\n",
        "    iqr = q3-q1\n",
        "    lower_whisker = q1 - range * iqr\n",
        "    upper_whisker = q3 + range * iqr\n",
        "    lower_whisker = np.max([lower_whisker, np.min(y)])\n",
        "    upper_whisker = np.min([upper_whisker, np.max(y)])\n",
        "  else:\n",
        "    q1 = np.percentile(x, 25)\n",
        "    q3 = np.percentile(x,75)\n",
        "    md = np.median(x)\n",
        "    iqr = q3-q1\n",
        "    lower_whisker = q1 - 1.5 * iqr\n",
        "    upper_whisker = q3 + 1.5 * iqr\n",
        "    lower_whisker = np.max([lower_whisker, np.min(x)])\n",
        "    upper_whisker = np.min([upper_whisker, np.max(x)])\n",
        "  salida = np.array([lower_whisker, q1, md, q3, upper_whisker])\n",
        "  return salida"
      ],
      "execution_count": null,
      "outputs": []
    },
    {
      "cell_type": "code",
      "metadata": {
        "colab": {
          "base_uri": "https://localhost:8080/"
        },
        "id": "Fyt1D3l02vva",
        "outputId": "b5b26b8a-d69c-4e9a-c290-cd78554c0379"
      },
      "source": [
        "##calculo de los numeros\n",
        "## tiene que ser con la variable transformada\n",
        "tuk = fivenum(y)\n",
        "print(tuk)"
      ],
      "execution_count": null,
      "outputs": [
        {
          "output_type": "stream",
          "text": [
            "[ 7.37585734  8.64218714  9.00386433  9.48640701 10.7527368 ]\n"
          ],
          "name": "stdout"
        }
      ]
    },
    {
      "cell_type": "code",
      "metadata": {
        "id": "UWbxomMQ6Kpn"
      },
      "source": [
        "regalias['extremo'] = pd.Series(y).apply(lambda x: '1' if (x < tuk[0]) | (x > tuk[4]) else '0')"
      ],
      "execution_count": null,
      "outputs": []
    },
    {
      "cell_type": "code",
      "metadata": {
        "colab": {
          "base_uri": "https://localhost:8080/"
        },
        "id": "b22efcDLMFRY",
        "outputId": "567fd908-df8f-4f2c-ea70-ee2112e77ff9"
      },
      "source": [
        "regalias['extremo'].value_counts()"
      ],
      "execution_count": null,
      "outputs": [
        {
          "output_type": "execute_result",
          "data": {
            "text/plain": [
              "0    203\n",
              "1      4\n",
              "Name: extremo, dtype: int64"
            ]
          },
          "metadata": {
            "tags": []
          },
          "execution_count": 40
        }
      ]
    },
    {
      "cell_type": "markdown",
      "metadata": {
        "id": "Pihizvsvo0UC"
      },
      "source": [
        "El número de valores extremos identificados es: **4**"
      ]
    },
    {
      "cell_type": "markdown",
      "metadata": {
        "id": "M3moE7jqo30C"
      },
      "source": [
        "c. Si repite el apartado b con k=3, el número de valores extremos es: **0**"
      ]
    },
    {
      "cell_type": "code",
      "metadata": {
        "id": "CRq7Dctho-r5"
      },
      "source": [
        "tuk2 = fivenum(y, range= 3)\n",
        "regalias['extremo_rango_3'] = pd.Series(y).apply(lambda x: '1' if (x < tuk2[0]) | (x > tuk2[4]) else '0')"
      ],
      "execution_count": null,
      "outputs": []
    },
    {
      "cell_type": "code",
      "metadata": {
        "colab": {
          "base_uri": "https://localhost:8080/"
        },
        "id": "7kC3-CCTpnAO",
        "outputId": "f61cf204-f797-497e-ad9e-ece924a22eec"
      },
      "source": [
        "tuk2"
      ],
      "execution_count": null,
      "outputs": [
        {
          "output_type": "execute_result",
          "data": {
            "text/plain": [
              "array([ 7.08880133,  8.64218714,  9.00386433,  9.48640701, 11.17938738])"
            ]
          },
          "metadata": {
            "tags": []
          },
          "execution_count": 42
        }
      ]
    },
    {
      "cell_type": "code",
      "metadata": {
        "colab": {
          "base_uri": "https://localhost:8080/"
        },
        "id": "Qd6CO4w_MjPn",
        "outputId": "0d0900d1-f14e-4011-db20-a548328af40c"
      },
      "source": [
        "regalias['extremo_rango_3'].value_counts()"
      ],
      "execution_count": null,
      "outputs": [
        {
          "output_type": "execute_result",
          "data": {
            "text/plain": [
              "0    207\n",
              "Name: extremo_rango_3, dtype: int64"
            ]
          },
          "metadata": {
            "tags": []
          },
          "execution_count": 43
        }
      ]
    },
    {
      "cell_type": "markdown",
      "metadata": {
        "id": "z7E24HKKQh1F"
      },
      "source": [
        "# 2"
      ]
    },
    {
      "cell_type": "markdown",
      "metadata": {
        "id": "xOoPtlnISDOW"
      },
      "source": [
        "## Local Outlier Factor"
      ]
    },
    {
      "cell_type": "markdown",
      "metadata": {
        "id": "9Y_fVcoRcr4Q"
      },
      "source": [
        "En este caso importan el número de vecinos cercanos que contemos y el score de LOF para cada punto. Se considera anómalo cuando el punto tiene un LOF por encima de 1.5 ó 2."
      ]
    },
    {
      "cell_type": "markdown",
      "metadata": {
        "id": "BbXuUF0iQoQd"
      },
      "source": [
        "Considere las variables *valor_sgr, valor_nación, valor_otros, total_proyecto* y *pctg_sgr*, lleve a cabo la identificación de valores outliers utilizando la medida de identificación de outliers “local_outlier factor”. Considere un *10%* de valores anómalos"
      ]
    },
    {
      "cell_type": "code",
      "metadata": {
        "colab": {
          "base_uri": "https://localhost:8080/",
          "height": 219
        },
        "id": "zfp1ghwUyG1K",
        "outputId": "f1f93696-87be-496a-9ae7-2e6a591544d8"
      },
      "source": [
        "regalias.head(2)"
      ],
      "execution_count": null,
      "outputs": [
        {
          "output_type": "execute_result",
          "data": {
            "text/html": [
              "<div>\n",
              "<style scoped>\n",
              "    .dataframe tbody tr th:only-of-type {\n",
              "        vertical-align: middle;\n",
              "    }\n",
              "\n",
              "    .dataframe tbody tr th {\n",
              "        vertical-align: top;\n",
              "    }\n",
              "\n",
              "    .dataframe thead th {\n",
              "        text-align: right;\n",
              "    }\n",
              "</style>\n",
              "<table border=\"1\" class=\"dataframe\">\n",
              "  <thead>\n",
              "    <tr style=\"text-align: right;\">\n",
              "      <th></th>\n",
              "      <th>Unnamed: 0</th>\n",
              "      <th>id_proyecto</th>\n",
              "      <th>nombre_del_proyecto</th>\n",
              "      <th>nombre_ocad</th>\n",
              "      <th>region</th>\n",
              "      <th>departamento</th>\n",
              "      <th>sector_suifp</th>\n",
              "      <th>programa</th>\n",
              "      <th>subprograma</th>\n",
              "      <th>avance_fisico</th>\n",
              "      <th>avance_financiero</th>\n",
              "      <th>estado_detalle</th>\n",
              "      <th>estado_general</th>\n",
              "      <th>anno</th>\n",
              "      <th>valor_sgr</th>\n",
              "      <th>valor_nación</th>\n",
              "      <th>valor_otros</th>\n",
              "      <th>total_proyecto</th>\n",
              "      <th>pctg_sgr</th>\n",
              "      <th>extremo</th>\n",
              "      <th>extremo_rango_3</th>\n",
              "    </tr>\n",
              "  </thead>\n",
              "  <tbody>\n",
              "    <tr>\n",
              "      <th>0</th>\n",
              "      <td>1</td>\n",
              "      <td>id_357417</td>\n",
              "      <td>CONSTRUCCIÓN DE PLACA HUELLA EN VÍAS TERCIARIA...</td>\n",
              "      <td>Región Eje Cafetero</td>\n",
              "      <td>Eje Cafetero</td>\n",
              "      <td>Antioquia</td>\n",
              "      <td>Transporte</td>\n",
              "      <td>Infraestructura Red Vial Regional</td>\n",
              "      <td>Red Vial Terciaria</td>\n",
              "      <td>100.0</td>\n",
              "      <td>100.0</td>\n",
              "      <td>Cerrado</td>\n",
              "      <td>Terminado</td>\n",
              "      <td>2017</td>\n",
              "      <td>1784417</td>\n",
              "      <td>0</td>\n",
              "      <td>0</td>\n",
              "      <td>1784417</td>\n",
              "      <td>100.0</td>\n",
              "      <td>0</td>\n",
              "      <td>0</td>\n",
              "    </tr>\n",
              "    <tr>\n",
              "      <th>1</th>\n",
              "      <td>2</td>\n",
              "      <td>id_357587</td>\n",
              "      <td>CONSTRUCCIÓN DE PLACA HUELLA EN VÍAS TERCIARIA...</td>\n",
              "      <td>Región Eje Cafetero</td>\n",
              "      <td>Eje Cafetero</td>\n",
              "      <td>Antioquia</td>\n",
              "      <td>Transporte</td>\n",
              "      <td>Infraestructura Red Vial Regional</td>\n",
              "      <td>Red Vial Terciaria</td>\n",
              "      <td>100.0</td>\n",
              "      <td>100.0</td>\n",
              "      <td>Cerrado</td>\n",
              "      <td>Terminado</td>\n",
              "      <td>2017</td>\n",
              "      <td>756224</td>\n",
              "      <td>0</td>\n",
              "      <td>0</td>\n",
              "      <td>756224</td>\n",
              "      <td>100.0</td>\n",
              "      <td>0</td>\n",
              "      <td>0</td>\n",
              "    </tr>\n",
              "  </tbody>\n",
              "</table>\n",
              "</div>"
            ],
            "text/plain": [
              "   Unnamed: 0 id_proyecto  ... extremo extremo_rango_3\n",
              "0           1   id_357417  ...       0               0\n",
              "1           2   id_357587  ...       0               0\n",
              "\n",
              "[2 rows x 21 columns]"
            ]
          },
          "metadata": {
            "tags": []
          },
          "execution_count": 44
        }
      ]
    },
    {
      "cell_type": "code",
      "metadata": {
        "colab": {
          "base_uri": "https://localhost:8080/",
          "height": 238
        },
        "id": "XccWAMP3Ql09",
        "outputId": "9fc7177f-2761-40a7-e7b7-8ac402cd8692"
      },
      "source": [
        "#hay que estandarizar los datos, lo que se está haciendo aquí es normalizar, o sea restar la media\n",
        "#y dividir por la desviacion estandar.\n",
        "#Esto tiene sentido ya que seguro que las escalas entre variables eran muy diferentes.\n",
        "#regalias.head()\n",
        "from sklearn import preprocessing\n",
        "\n",
        "df2 = regalias[['id_proyecto','valor_sgr','valor_nación','valor_otros','total_proyecto','pctg_sgr']]\n",
        "#data_ejercicio_2.head()\n",
        "df2_stand = preprocessing.scale(df2.drop(columns = 'id_proyecto'))  #Center to the mean and component wise scale to unit variance.\n",
        "df2_stand = pd.DataFrame(data=df2_stand, \n",
        "                             columns=[\"valor_sgr\", \"valor_nación\", \"valor_otros\", \"total_proyecto\", \"pctg_sgr\"])\n",
        "df2_stand.head(6)"
      ],
      "execution_count": null,
      "outputs": [
        {
          "output_type": "execute_result",
          "data": {
            "text/html": [
              "<div>\n",
              "<style scoped>\n",
              "    .dataframe tbody tr th:only-of-type {\n",
              "        vertical-align: middle;\n",
              "    }\n",
              "\n",
              "    .dataframe tbody tr th {\n",
              "        vertical-align: top;\n",
              "    }\n",
              "\n",
              "    .dataframe thead th {\n",
              "        text-align: right;\n",
              "    }\n",
              "</style>\n",
              "<table border=\"1\" class=\"dataframe\">\n",
              "  <thead>\n",
              "    <tr style=\"text-align: right;\">\n",
              "      <th></th>\n",
              "      <th>valor_sgr</th>\n",
              "      <th>valor_nación</th>\n",
              "      <th>valor_otros</th>\n",
              "      <th>total_proyecto</th>\n",
              "      <th>pctg_sgr</th>\n",
              "    </tr>\n",
              "  </thead>\n",
              "  <tbody>\n",
              "    <tr>\n",
              "      <th>0</th>\n",
              "      <td>1.005915</td>\n",
              "      <td>-0.069673</td>\n",
              "      <td>-0.177301</td>\n",
              "      <td>0.969081</td>\n",
              "      <td>0.208449</td>\n",
              "    </tr>\n",
              "    <tr>\n",
              "      <th>1</th>\n",
              "      <td>0.239017</td>\n",
              "      <td>-0.069673</td>\n",
              "      <td>-0.177301</td>\n",
              "      <td>0.218522</td>\n",
              "      <td>0.208449</td>\n",
              "    </tr>\n",
              "    <tr>\n",
              "      <th>2</th>\n",
              "      <td>0.872449</td>\n",
              "      <td>-0.069673</td>\n",
              "      <td>-0.165484</td>\n",
              "      <td>0.838701</td>\n",
              "      <td>0.208449</td>\n",
              "    </tr>\n",
              "    <tr>\n",
              "      <th>3</th>\n",
              "      <td>-0.167842</td>\n",
              "      <td>-0.069673</td>\n",
              "      <td>-0.177301</td>\n",
              "      <td>-0.179667</td>\n",
              "      <td>0.208449</td>\n",
              "    </tr>\n",
              "    <tr>\n",
              "      <th>4</th>\n",
              "      <td>-0.301409</td>\n",
              "      <td>-0.069673</td>\n",
              "      <td>-0.177301</td>\n",
              "      <td>-0.310389</td>\n",
              "      <td>0.208449</td>\n",
              "    </tr>\n",
              "    <tr>\n",
              "      <th>5</th>\n",
              "      <td>-0.319310</td>\n",
              "      <td>-0.069673</td>\n",
              "      <td>-0.177301</td>\n",
              "      <td>-0.327909</td>\n",
              "      <td>0.208449</td>\n",
              "    </tr>\n",
              "  </tbody>\n",
              "</table>\n",
              "</div>"
            ],
            "text/plain": [
              "   valor_sgr  valor_nación  valor_otros  total_proyecto  pctg_sgr\n",
              "0   1.005915     -0.069673    -0.177301        0.969081  0.208449\n",
              "1   0.239017     -0.069673    -0.177301        0.218522  0.208449\n",
              "2   0.872449     -0.069673    -0.165484        0.838701  0.208449\n",
              "3  -0.167842     -0.069673    -0.177301       -0.179667  0.208449\n",
              "4  -0.301409     -0.069673    -0.177301       -0.310389  0.208449\n",
              "5  -0.319310     -0.069673    -0.177301       -0.327909  0.208449"
            ]
          },
          "metadata": {
            "tags": []
          },
          "execution_count": 45
        }
      ]
    },
    {
      "cell_type": "code",
      "metadata": {
        "id": "aJcRgSxfrG_I"
      },
      "source": [
        "#para hacer el calculo del score\n",
        "\n",
        "#import numpy as np                 #esta ya esta cargada arriba\n",
        "#import pandas as pd                #ya cargada arriba\n",
        "#import matplotlib.pyplot as plt    #ya cargada arriba\n",
        "\n",
        "from sklearn.neighbors import LocalOutlierFactor\n",
        "#esta no porque no tenemos etiquetas con las cuales comparar\n",
        "#from sklearn.metrics import confusion_matrix\n",
        "from plotnine import ggplot, geom_point, aes, geom_abline"
      ],
      "execution_count": null,
      "outputs": []
    },
    {
      "cell_type": "code",
      "metadata": {
        "id": "AiULUu-RtbeP"
      },
      "source": [
        "#usando el score tomando en cuenta los 5 vecinos más cercanos\n",
        "#y limitando que la cantidad de valores extremos sea del 10%\n",
        "LOF2 = LocalOutlierFactor(n_neighbors = 5, contamination= 0.1)\n",
        "#notar que la instruccion pasada no esta siendo aplicada a ninguna dataset\n",
        "#la que sigue dice quienes son y quienes no son anomalos\n",
        "pred2 = LOF2.fit_predict(df2_stand)\n",
        "#LOF score\n",
        "scores = -1 * LOF2.negative_outlier_factor_ #opposite of LOF\n",
        "df2['score'] = scores"
      ],
      "execution_count": null,
      "outputs": []
    },
    {
      "cell_type": "code",
      "metadata": {
        "colab": {
          "base_uri": "https://localhost:8080/",
          "height": 645
        },
        "id": "_13O7hNR2t2-",
        "outputId": "f61262af-e7ad-4dc2-b944-cbb3c60e17ca"
      },
      "source": [
        "df2[df2.score >= 2]"
      ],
      "execution_count": null,
      "outputs": [
        {
          "output_type": "execute_result",
          "data": {
            "text/html": [
              "<div>\n",
              "<style scoped>\n",
              "    .dataframe tbody tr th:only-of-type {\n",
              "        vertical-align: middle;\n",
              "    }\n",
              "\n",
              "    .dataframe tbody tr th {\n",
              "        vertical-align: top;\n",
              "    }\n",
              "\n",
              "    .dataframe thead th {\n",
              "        text-align: right;\n",
              "    }\n",
              "</style>\n",
              "<table border=\"1\" class=\"dataframe\">\n",
              "  <thead>\n",
              "    <tr style=\"text-align: right;\">\n",
              "      <th></th>\n",
              "      <th>id_proyecto</th>\n",
              "      <th>valor_sgr</th>\n",
              "      <th>valor_nación</th>\n",
              "      <th>valor_otros</th>\n",
              "      <th>total_proyecto</th>\n",
              "      <th>pctg_sgr</th>\n",
              "      <th>score</th>\n",
              "    </tr>\n",
              "  </thead>\n",
              "  <tbody>\n",
              "    <tr>\n",
              "      <th>0</th>\n",
              "      <td>id_357417</td>\n",
              "      <td>1784417</td>\n",
              "      <td>0</td>\n",
              "      <td>0</td>\n",
              "      <td>1784417</td>\n",
              "      <td>100.0</td>\n",
              "      <td>2.880981</td>\n",
              "    </tr>\n",
              "    <tr>\n",
              "      <th>2</th>\n",
              "      <td>id_701595</td>\n",
              "      <td>1605476</td>\n",
              "      <td>0</td>\n",
              "      <td>333</td>\n",
              "      <td>1605809</td>\n",
              "      <td>100.0</td>\n",
              "      <td>2.197768</td>\n",
              "    </tr>\n",
              "    <tr>\n",
              "      <th>5</th>\n",
              "      <td>id_1062076</td>\n",
              "      <td>7667</td>\n",
              "      <td>0</td>\n",
              "      <td>0</td>\n",
              "      <td>7667</td>\n",
              "      <td>100.0</td>\n",
              "      <td>2.330392</td>\n",
              "    </tr>\n",
              "    <tr>\n",
              "      <th>13</th>\n",
              "      <td>id_1011939</td>\n",
              "      <td>206234</td>\n",
              "      <td>0</td>\n",
              "      <td>239718</td>\n",
              "      <td>445952</td>\n",
              "      <td>46.2</td>\n",
              "      <td>2.403295</td>\n",
              "    </tr>\n",
              "    <tr>\n",
              "      <th>15</th>\n",
              "      <td>id_1067153</td>\n",
              "      <td>7833</td>\n",
              "      <td>0</td>\n",
              "      <td>0</td>\n",
              "      <td>7833</td>\n",
              "      <td>100.0</td>\n",
              "      <td>2.322246</td>\n",
              "    </tr>\n",
              "    <tr>\n",
              "      <th>19</th>\n",
              "      <td>id_324697</td>\n",
              "      <td>18193397</td>\n",
              "      <td>0</td>\n",
              "      <td>0</td>\n",
              "      <td>18193397</td>\n",
              "      <td>100.0</td>\n",
              "      <td>33.818590</td>\n",
              "    </tr>\n",
              "    <tr>\n",
              "      <th>23</th>\n",
              "      <td>id_1028007</td>\n",
              "      <td>58488</td>\n",
              "      <td>0</td>\n",
              "      <td>3509</td>\n",
              "      <td>61997</td>\n",
              "      <td>94.3</td>\n",
              "      <td>44.753128</td>\n",
              "    </tr>\n",
              "    <tr>\n",
              "      <th>41</th>\n",
              "      <td>id_377796</td>\n",
              "      <td>6882</td>\n",
              "      <td>0</td>\n",
              "      <td>0</td>\n",
              "      <td>6882</td>\n",
              "      <td>100.0</td>\n",
              "      <td>2.368910</td>\n",
              "    </tr>\n",
              "    <tr>\n",
              "      <th>46</th>\n",
              "      <td>id_290778</td>\n",
              "      <td>1276430</td>\n",
              "      <td>3333333</td>\n",
              "      <td>0</td>\n",
              "      <td>4609764</td>\n",
              "      <td>27.7</td>\n",
              "      <td>8.114079</td>\n",
              "    </tr>\n",
              "    <tr>\n",
              "      <th>56</th>\n",
              "      <td>id_1009118</td>\n",
              "      <td>748961</td>\n",
              "      <td>0</td>\n",
              "      <td>27387</td>\n",
              "      <td>776348</td>\n",
              "      <td>96.5</td>\n",
              "      <td>15.876063</td>\n",
              "    </tr>\n",
              "    <tr>\n",
              "      <th>62</th>\n",
              "      <td>id_638485</td>\n",
              "      <td>2499998</td>\n",
              "      <td>0</td>\n",
              "      <td>0</td>\n",
              "      <td>2499998</td>\n",
              "      <td>100.0</td>\n",
              "      <td>3.966040</td>\n",
              "    </tr>\n",
              "    <tr>\n",
              "      <th>68</th>\n",
              "      <td>id_274220</td>\n",
              "      <td>5661035</td>\n",
              "      <td>0</td>\n",
              "      <td>0</td>\n",
              "      <td>5661035</td>\n",
              "      <td>100.0</td>\n",
              "      <td>12.198255</td>\n",
              "    </tr>\n",
              "    <tr>\n",
              "      <th>85</th>\n",
              "      <td>id_290740</td>\n",
              "      <td>117297</td>\n",
              "      <td>0</td>\n",
              "      <td>10703</td>\n",
              "      <td>128000</td>\n",
              "      <td>91.6</td>\n",
              "      <td>3.641329</td>\n",
              "    </tr>\n",
              "    <tr>\n",
              "      <th>107</th>\n",
              "      <td>id_496680</td>\n",
              "      <td>81170</td>\n",
              "      <td>0</td>\n",
              "      <td>1637</td>\n",
              "      <td>82807</td>\n",
              "      <td>98.0</td>\n",
              "      <td>35.703465</td>\n",
              "    </tr>\n",
              "    <tr>\n",
              "      <th>118</th>\n",
              "      <td>id_1034053</td>\n",
              "      <td>82534</td>\n",
              "      <td>0</td>\n",
              "      <td>0</td>\n",
              "      <td>82534</td>\n",
              "      <td>100.0</td>\n",
              "      <td>2.052347</td>\n",
              "    </tr>\n",
              "    <tr>\n",
              "      <th>125</th>\n",
              "      <td>id_1041316</td>\n",
              "      <td>81112</td>\n",
              "      <td>0</td>\n",
              "      <td>0</td>\n",
              "      <td>81112</td>\n",
              "      <td>100.0</td>\n",
              "      <td>2.770970</td>\n",
              "    </tr>\n",
              "    <tr>\n",
              "      <th>164</th>\n",
              "      <td>id_381624</td>\n",
              "      <td>105953</td>\n",
              "      <td>0</td>\n",
              "      <td>713</td>\n",
              "      <td>106667</td>\n",
              "      <td>99.3</td>\n",
              "      <td>15.826240</td>\n",
              "    </tr>\n",
              "    <tr>\n",
              "      <th>174</th>\n",
              "      <td>id_499876</td>\n",
              "      <td>100667</td>\n",
              "      <td>0</td>\n",
              "      <td>5000</td>\n",
              "      <td>105667</td>\n",
              "      <td>95.3</td>\n",
              "      <td>27.895463</td>\n",
              "    </tr>\n",
              "    <tr>\n",
              "      <th>177</th>\n",
              "      <td>id_592352</td>\n",
              "      <td>67510</td>\n",
              "      <td>0</td>\n",
              "      <td>260833</td>\n",
              "      <td>328343</td>\n",
              "      <td>20.6</td>\n",
              "      <td>2.863437</td>\n",
              "    </tr>\n",
              "  </tbody>\n",
              "</table>\n",
              "</div>"
            ],
            "text/plain": [
              "    id_proyecto  valor_sgr  valor_nación  ...  total_proyecto  pctg_sgr      score\n",
              "0     id_357417    1784417             0  ...         1784417     100.0   2.880981\n",
              "2     id_701595    1605476             0  ...         1605809     100.0   2.197768\n",
              "5    id_1062076       7667             0  ...            7667     100.0   2.330392\n",
              "13   id_1011939     206234             0  ...          445952      46.2   2.403295\n",
              "15   id_1067153       7833             0  ...            7833     100.0   2.322246\n",
              "19    id_324697   18193397             0  ...        18193397     100.0  33.818590\n",
              "23   id_1028007      58488             0  ...           61997      94.3  44.753128\n",
              "41    id_377796       6882             0  ...            6882     100.0   2.368910\n",
              "46    id_290778    1276430       3333333  ...         4609764      27.7   8.114079\n",
              "56   id_1009118     748961             0  ...          776348      96.5  15.876063\n",
              "62    id_638485    2499998             0  ...         2499998     100.0   3.966040\n",
              "68    id_274220    5661035             0  ...         5661035     100.0  12.198255\n",
              "85    id_290740     117297             0  ...          128000      91.6   3.641329\n",
              "107   id_496680      81170             0  ...           82807      98.0  35.703465\n",
              "118  id_1034053      82534             0  ...           82534     100.0   2.052347\n",
              "125  id_1041316      81112             0  ...           81112     100.0   2.770970\n",
              "164   id_381624     105953             0  ...          106667      99.3  15.826240\n",
              "174   id_499876     100667             0  ...          105667      95.3  27.895463\n",
              "177   id_592352      67510             0  ...          328343      20.6   2.863437\n",
              "\n",
              "[19 rows x 7 columns]"
            ]
          },
          "metadata": {
            "tags": []
          },
          "execution_count": 48
        }
      ]
    },
    {
      "cell_type": "code",
      "metadata": {
        "colab": {
          "base_uri": "https://localhost:8080/"
        },
        "id": "uN0Rb-BvxNeK",
        "outputId": "38f340dd-e8f8-45d8-cc1e-fbe447f996b5"
      },
      "source": [
        "#cuantos son\n",
        "#len(df2[pred2 == -1])\n",
        "len(df2[df2.score >= 2])"
      ],
      "execution_count": null,
      "outputs": [
        {
          "output_type": "execute_result",
          "data": {
            "text/plain": [
              "19"
            ]
          },
          "metadata": {
            "tags": []
          },
          "execution_count": 49
        }
      ]
    },
    {
      "cell_type": "markdown",
      "metadata": {
        "id": "9rejYmXLxcxi"
      },
      "source": [
        "a. El número de valores considerados outliers con base en lo de predict es: **19**"
      ]
    },
    {
      "cell_type": "code",
      "metadata": {
        "colab": {
          "base_uri": "https://localhost:8080/",
          "height": 81
        },
        "id": "aPdJZP84xtFL",
        "outputId": "8c07a14e-2d65-4823-def2-0fac47ad699f"
      },
      "source": [
        "df2[df2.score == max(df2.score)]"
      ],
      "execution_count": null,
      "outputs": [
        {
          "output_type": "execute_result",
          "data": {
            "text/html": [
              "<div>\n",
              "<style scoped>\n",
              "    .dataframe tbody tr th:only-of-type {\n",
              "        vertical-align: middle;\n",
              "    }\n",
              "\n",
              "    .dataframe tbody tr th {\n",
              "        vertical-align: top;\n",
              "    }\n",
              "\n",
              "    .dataframe thead th {\n",
              "        text-align: right;\n",
              "    }\n",
              "</style>\n",
              "<table border=\"1\" class=\"dataframe\">\n",
              "  <thead>\n",
              "    <tr style=\"text-align: right;\">\n",
              "      <th></th>\n",
              "      <th>id_proyecto</th>\n",
              "      <th>valor_sgr</th>\n",
              "      <th>valor_nación</th>\n",
              "      <th>valor_otros</th>\n",
              "      <th>total_proyecto</th>\n",
              "      <th>pctg_sgr</th>\n",
              "      <th>score</th>\n",
              "    </tr>\n",
              "  </thead>\n",
              "  <tbody>\n",
              "    <tr>\n",
              "      <th>23</th>\n",
              "      <td>id_1028007</td>\n",
              "      <td>58488</td>\n",
              "      <td>0</td>\n",
              "      <td>3509</td>\n",
              "      <td>61997</td>\n",
              "      <td>94.3</td>\n",
              "      <td>44.753128</td>\n",
              "    </tr>\n",
              "  </tbody>\n",
              "</table>\n",
              "</div>"
            ],
            "text/plain": [
              "   id_proyecto  valor_sgr  valor_nación  ...  total_proyecto  pctg_sgr      score\n",
              "23  id_1028007      58488             0  ...           61997      94.3  44.753128\n",
              "\n",
              "[1 rows x 7 columns]"
            ]
          },
          "metadata": {
            "tags": []
          },
          "execution_count": 50
        }
      ]
    },
    {
      "cell_type": "markdown",
      "metadata": {
        "id": "5tW1mt2szeuq"
      },
      "source": [
        "b. El proyecto con el mayor score es el que tiene por identificador **id_1028007**"
      ]
    },
    {
      "cell_type": "code",
      "metadata": {
        "colab": {
          "base_uri": "https://localhost:8080/",
          "height": 363
        },
        "id": "nC31a2DuznWB",
        "outputId": "feecbea2-7a8c-4b30-9c0e-9d438ba8ac3f"
      },
      "source": [
        "df2[df2.score >= 3]"
      ],
      "execution_count": null,
      "outputs": [
        {
          "output_type": "execute_result",
          "data": {
            "text/html": [
              "<div>\n",
              "<style scoped>\n",
              "    .dataframe tbody tr th:only-of-type {\n",
              "        vertical-align: middle;\n",
              "    }\n",
              "\n",
              "    .dataframe tbody tr th {\n",
              "        vertical-align: top;\n",
              "    }\n",
              "\n",
              "    .dataframe thead th {\n",
              "        text-align: right;\n",
              "    }\n",
              "</style>\n",
              "<table border=\"1\" class=\"dataframe\">\n",
              "  <thead>\n",
              "    <tr style=\"text-align: right;\">\n",
              "      <th></th>\n",
              "      <th>id_proyecto</th>\n",
              "      <th>valor_sgr</th>\n",
              "      <th>valor_nación</th>\n",
              "      <th>valor_otros</th>\n",
              "      <th>total_proyecto</th>\n",
              "      <th>pctg_sgr</th>\n",
              "      <th>score</th>\n",
              "    </tr>\n",
              "  </thead>\n",
              "  <tbody>\n",
              "    <tr>\n",
              "      <th>19</th>\n",
              "      <td>id_324697</td>\n",
              "      <td>18193397</td>\n",
              "      <td>0</td>\n",
              "      <td>0</td>\n",
              "      <td>18193397</td>\n",
              "      <td>100.0</td>\n",
              "      <td>33.818590</td>\n",
              "    </tr>\n",
              "    <tr>\n",
              "      <th>23</th>\n",
              "      <td>id_1028007</td>\n",
              "      <td>58488</td>\n",
              "      <td>0</td>\n",
              "      <td>3509</td>\n",
              "      <td>61997</td>\n",
              "      <td>94.3</td>\n",
              "      <td>44.753128</td>\n",
              "    </tr>\n",
              "    <tr>\n",
              "      <th>46</th>\n",
              "      <td>id_290778</td>\n",
              "      <td>1276430</td>\n",
              "      <td>3333333</td>\n",
              "      <td>0</td>\n",
              "      <td>4609764</td>\n",
              "      <td>27.7</td>\n",
              "      <td>8.114079</td>\n",
              "    </tr>\n",
              "    <tr>\n",
              "      <th>56</th>\n",
              "      <td>id_1009118</td>\n",
              "      <td>748961</td>\n",
              "      <td>0</td>\n",
              "      <td>27387</td>\n",
              "      <td>776348</td>\n",
              "      <td>96.5</td>\n",
              "      <td>15.876063</td>\n",
              "    </tr>\n",
              "    <tr>\n",
              "      <th>62</th>\n",
              "      <td>id_638485</td>\n",
              "      <td>2499998</td>\n",
              "      <td>0</td>\n",
              "      <td>0</td>\n",
              "      <td>2499998</td>\n",
              "      <td>100.0</td>\n",
              "      <td>3.966040</td>\n",
              "    </tr>\n",
              "    <tr>\n",
              "      <th>68</th>\n",
              "      <td>id_274220</td>\n",
              "      <td>5661035</td>\n",
              "      <td>0</td>\n",
              "      <td>0</td>\n",
              "      <td>5661035</td>\n",
              "      <td>100.0</td>\n",
              "      <td>12.198255</td>\n",
              "    </tr>\n",
              "    <tr>\n",
              "      <th>85</th>\n",
              "      <td>id_290740</td>\n",
              "      <td>117297</td>\n",
              "      <td>0</td>\n",
              "      <td>10703</td>\n",
              "      <td>128000</td>\n",
              "      <td>91.6</td>\n",
              "      <td>3.641329</td>\n",
              "    </tr>\n",
              "    <tr>\n",
              "      <th>107</th>\n",
              "      <td>id_496680</td>\n",
              "      <td>81170</td>\n",
              "      <td>0</td>\n",
              "      <td>1637</td>\n",
              "      <td>82807</td>\n",
              "      <td>98.0</td>\n",
              "      <td>35.703465</td>\n",
              "    </tr>\n",
              "    <tr>\n",
              "      <th>164</th>\n",
              "      <td>id_381624</td>\n",
              "      <td>105953</td>\n",
              "      <td>0</td>\n",
              "      <td>713</td>\n",
              "      <td>106667</td>\n",
              "      <td>99.3</td>\n",
              "      <td>15.826240</td>\n",
              "    </tr>\n",
              "    <tr>\n",
              "      <th>174</th>\n",
              "      <td>id_499876</td>\n",
              "      <td>100667</td>\n",
              "      <td>0</td>\n",
              "      <td>5000</td>\n",
              "      <td>105667</td>\n",
              "      <td>95.3</td>\n",
              "      <td>27.895463</td>\n",
              "    </tr>\n",
              "  </tbody>\n",
              "</table>\n",
              "</div>"
            ],
            "text/plain": [
              "    id_proyecto  valor_sgr  valor_nación  ...  total_proyecto  pctg_sgr      score\n",
              "19    id_324697   18193397             0  ...        18193397     100.0  33.818590\n",
              "23   id_1028007      58488             0  ...           61997      94.3  44.753128\n",
              "46    id_290778    1276430       3333333  ...         4609764      27.7   8.114079\n",
              "56   id_1009118     748961             0  ...          776348      96.5  15.876063\n",
              "62    id_638485    2499998             0  ...         2499998     100.0   3.966040\n",
              "68    id_274220    5661035             0  ...         5661035     100.0  12.198255\n",
              "85    id_290740     117297             0  ...          128000      91.6   3.641329\n",
              "107   id_496680      81170             0  ...           82807      98.0  35.703465\n",
              "164   id_381624     105953             0  ...          106667      99.3  15.826240\n",
              "174   id_499876     100667             0  ...          105667      95.3  27.895463\n",
              "\n",
              "[10 rows x 7 columns]"
            ]
          },
          "metadata": {
            "tags": []
          },
          "execution_count": 51
        }
      ]
    },
    {
      "cell_type": "code",
      "metadata": {
        "colab": {
          "base_uri": "https://localhost:8080/"
        },
        "id": "qCoR8lQ9z_cy",
        "outputId": "9e9834e4-3139-463a-b073-b75399a6513f"
      },
      "source": [
        "len(df2[df2.score >= 3])"
      ],
      "execution_count": null,
      "outputs": [
        {
          "output_type": "execute_result",
          "data": {
            "text/plain": [
              "10"
            ]
          },
          "metadata": {
            "tags": []
          },
          "execution_count": 52
        }
      ]
    },
    {
      "cell_type": "markdown",
      "metadata": {
        "id": "aZfx04SS0DOp"
      },
      "source": [
        "c. Utilizando las mismas variables, los que tiene un score mayor a 3 suman **10**."
      ]
    },
    {
      "cell_type": "markdown",
      "metadata": {
        "id": "bFb-wEEI0Q96"
      },
      "source": [
        "# 3"
      ]
    },
    {
      "cell_type": "markdown",
      "metadata": {
        "id": "gC6tx1Wd6doa"
      },
      "source": [
        "## Ejercicio 3"
      ]
    },
    {
      "cell_type": "code",
      "metadata": {
        "id": "s5FgTaGy0YhK"
      },
      "source": [
        "from sklearn.ensemble import IsolationForest\n",
        "import warnings\n",
        "warnings.filterwarnings('ignore')"
      ],
      "execution_count": null,
      "outputs": []
    },
    {
      "cell_type": "markdown",
      "metadata": {
        "id": "gnaCWeYr6s0X"
      },
      "source": [
        "Considere las variables *valor_sgr, valor_nación, valor_otros, total_proyecto* y *pctg_sgr*, lleve a cabo la identificación de valores outliers utilizando Isolation Forest"
      ]
    },
    {
      "cell_type": "code",
      "metadata": {
        "id": "9Rv-oVXh6fa1"
      },
      "source": [
        "#usar el mismo dataset que en la pregunta pasada porque incluye el LOF\n",
        "#definir el modelo, igual sin datos\n",
        "isof = IsolationForest(n_estimators=50, max_samples='auto',\n",
        "                       contamination = float(0.1))"
      ],
      "execution_count": null,
      "outputs": []
    },
    {
      "cell_type": "code",
      "metadata": {
        "id": "tv1W6aJd69gV"
      },
      "source": [
        "#correr el modelo con el dataset\n",
        "isof.fit(df2.drop(columns=['id_proyecto','score']))\n",
        "#agregar puntajes al dataset:\n",
        "  #correr el score para los valores\n",
        "df2['score_iso'] = isof.decision_function(df2.drop(columns=['id_proyecto','score']))\n"
      ],
      "execution_count": null,
      "outputs": []
    },
    {
      "cell_type": "code",
      "metadata": {
        "id": "bop14Az8qbQ8"
      },
      "source": [
        "  #correr el predict\n",
        "df2['anomalo'] = isof.predict(df2.drop(columns=['id_proyecto','score','score_iso']))"
      ],
      "execution_count": null,
      "outputs": []
    },
    {
      "cell_type": "code",
      "metadata": {
        "colab": {
          "base_uri": "https://localhost:8080/",
          "height": 708
        },
        "id": "5TPI4M_O8fk2",
        "outputId": "ad94c12f-2f38-4996-e4bd-30de8431c76a"
      },
      "source": [
        "df2[df2.anomalo == -1]"
      ],
      "execution_count": null,
      "outputs": [
        {
          "output_type": "execute_result",
          "data": {
            "text/html": [
              "<div>\n",
              "<style scoped>\n",
              "    .dataframe tbody tr th:only-of-type {\n",
              "        vertical-align: middle;\n",
              "    }\n",
              "\n",
              "    .dataframe tbody tr th {\n",
              "        vertical-align: top;\n",
              "    }\n",
              "\n",
              "    .dataframe thead th {\n",
              "        text-align: right;\n",
              "    }\n",
              "</style>\n",
              "<table border=\"1\" class=\"dataframe\">\n",
              "  <thead>\n",
              "    <tr style=\"text-align: right;\">\n",
              "      <th></th>\n",
              "      <th>id_proyecto</th>\n",
              "      <th>valor_sgr</th>\n",
              "      <th>valor_nación</th>\n",
              "      <th>valor_otros</th>\n",
              "      <th>total_proyecto</th>\n",
              "      <th>pctg_sgr</th>\n",
              "      <th>score</th>\n",
              "      <th>score_iso</th>\n",
              "      <th>anomalo</th>\n",
              "    </tr>\n",
              "  </thead>\n",
              "  <tbody>\n",
              "    <tr>\n",
              "      <th>0</th>\n",
              "      <td>id_357417</td>\n",
              "      <td>1784417</td>\n",
              "      <td>0</td>\n",
              "      <td>0</td>\n",
              "      <td>1784417</td>\n",
              "      <td>100.0</td>\n",
              "      <td>2.880981</td>\n",
              "      <td>-0.042052</td>\n",
              "      <td>-1</td>\n",
              "    </tr>\n",
              "    <tr>\n",
              "      <th>2</th>\n",
              "      <td>id_701595</td>\n",
              "      <td>1605476</td>\n",
              "      <td>0</td>\n",
              "      <td>333</td>\n",
              "      <td>1605809</td>\n",
              "      <td>100.0</td>\n",
              "      <td>2.197768</td>\n",
              "      <td>-0.102844</td>\n",
              "      <td>-1</td>\n",
              "    </tr>\n",
              "    <tr>\n",
              "      <th>13</th>\n",
              "      <td>id_1011939</td>\n",
              "      <td>206234</td>\n",
              "      <td>0</td>\n",
              "      <td>239718</td>\n",
              "      <td>445952</td>\n",
              "      <td>46.2</td>\n",
              "      <td>2.403295</td>\n",
              "      <td>-0.338513</td>\n",
              "      <td>-1</td>\n",
              "    </tr>\n",
              "    <tr>\n",
              "      <th>19</th>\n",
              "      <td>id_324697</td>\n",
              "      <td>18193397</td>\n",
              "      <td>0</td>\n",
              "      <td>0</td>\n",
              "      <td>18193397</td>\n",
              "      <td>100.0</td>\n",
              "      <td>33.818590</td>\n",
              "      <td>-0.407289</td>\n",
              "      <td>-1</td>\n",
              "    </tr>\n",
              "    <tr>\n",
              "      <th>20</th>\n",
              "      <td>id_625428</td>\n",
              "      <td>382754</td>\n",
              "      <td>0</td>\n",
              "      <td>53387</td>\n",
              "      <td>436140</td>\n",
              "      <td>87.8</td>\n",
              "      <td>1.295887</td>\n",
              "      <td>-0.169094</td>\n",
              "      <td>-1</td>\n",
              "    </tr>\n",
              "    <tr>\n",
              "      <th>22</th>\n",
              "      <td>id_812308</td>\n",
              "      <td>157205</td>\n",
              "      <td>0</td>\n",
              "      <td>28120</td>\n",
              "      <td>185324</td>\n",
              "      <td>84.8</td>\n",
              "      <td>1.355977</td>\n",
              "      <td>-0.135004</td>\n",
              "      <td>-1</td>\n",
              "    </tr>\n",
              "    <tr>\n",
              "      <th>23</th>\n",
              "      <td>id_1028007</td>\n",
              "      <td>58488</td>\n",
              "      <td>0</td>\n",
              "      <td>3509</td>\n",
              "      <td>61997</td>\n",
              "      <td>94.3</td>\n",
              "      <td>44.753128</td>\n",
              "      <td>-0.073201</td>\n",
              "      <td>-1</td>\n",
              "    </tr>\n",
              "    <tr>\n",
              "      <th>27</th>\n",
              "      <td>id_370367</td>\n",
              "      <td>433333</td>\n",
              "      <td>0</td>\n",
              "      <td>161476</td>\n",
              "      <td>594810</td>\n",
              "      <td>72.9</td>\n",
              "      <td>1.980259</td>\n",
              "      <td>-0.274554</td>\n",
              "      <td>-1</td>\n",
              "    </tr>\n",
              "    <tr>\n",
              "      <th>46</th>\n",
              "      <td>id_290778</td>\n",
              "      <td>1276430</td>\n",
              "      <td>3333333</td>\n",
              "      <td>0</td>\n",
              "      <td>4609764</td>\n",
              "      <td>27.7</td>\n",
              "      <td>8.114079</td>\n",
              "      <td>-0.416610</td>\n",
              "      <td>-1</td>\n",
              "    </tr>\n",
              "    <tr>\n",
              "      <th>56</th>\n",
              "      <td>id_1009118</td>\n",
              "      <td>748961</td>\n",
              "      <td>0</td>\n",
              "      <td>27387</td>\n",
              "      <td>776348</td>\n",
              "      <td>96.5</td>\n",
              "      <td>15.876063</td>\n",
              "      <td>-0.173695</td>\n",
              "      <td>-1</td>\n",
              "    </tr>\n",
              "    <tr>\n",
              "      <th>62</th>\n",
              "      <td>id_638485</td>\n",
              "      <td>2499998</td>\n",
              "      <td>0</td>\n",
              "      <td>0</td>\n",
              "      <td>2499998</td>\n",
              "      <td>100.0</td>\n",
              "      <td>3.966040</td>\n",
              "      <td>-0.134272</td>\n",
              "      <td>-1</td>\n",
              "    </tr>\n",
              "    <tr>\n",
              "      <th>68</th>\n",
              "      <td>id_274220</td>\n",
              "      <td>5661035</td>\n",
              "      <td>0</td>\n",
              "      <td>0</td>\n",
              "      <td>5661035</td>\n",
              "      <td>100.0</td>\n",
              "      <td>12.198255</td>\n",
              "      <td>-0.274632</td>\n",
              "      <td>-1</td>\n",
              "    </tr>\n",
              "    <tr>\n",
              "      <th>85</th>\n",
              "      <td>id_290740</td>\n",
              "      <td>117297</td>\n",
              "      <td>0</td>\n",
              "      <td>10703</td>\n",
              "      <td>128000</td>\n",
              "      <td>91.6</td>\n",
              "      <td>3.641329</td>\n",
              "      <td>-0.076558</td>\n",
              "      <td>-1</td>\n",
              "    </tr>\n",
              "    <tr>\n",
              "      <th>107</th>\n",
              "      <td>id_496680</td>\n",
              "      <td>81170</td>\n",
              "      <td>0</td>\n",
              "      <td>1637</td>\n",
              "      <td>82807</td>\n",
              "      <td>98.0</td>\n",
              "      <td>35.703465</td>\n",
              "      <td>-0.017110</td>\n",
              "      <td>-1</td>\n",
              "    </tr>\n",
              "    <tr>\n",
              "      <th>115</th>\n",
              "      <td>id_274581</td>\n",
              "      <td>536951</td>\n",
              "      <td>0</td>\n",
              "      <td>34926</td>\n",
              "      <td>571877</td>\n",
              "      <td>93.9</td>\n",
              "      <td>1.324214</td>\n",
              "      <td>-0.160180</td>\n",
              "      <td>-1</td>\n",
              "    </tr>\n",
              "    <tr>\n",
              "      <th>167</th>\n",
              "      <td>id_290044</td>\n",
              "      <td>159688</td>\n",
              "      <td>0</td>\n",
              "      <td>66667</td>\n",
              "      <td>226355</td>\n",
              "      <td>70.5</td>\n",
              "      <td>1.296970</td>\n",
              "      <td>-0.199181</td>\n",
              "      <td>-1</td>\n",
              "    </tr>\n",
              "    <tr>\n",
              "      <th>174</th>\n",
              "      <td>id_499876</td>\n",
              "      <td>100667</td>\n",
              "      <td>0</td>\n",
              "      <td>5000</td>\n",
              "      <td>105667</td>\n",
              "      <td>95.3</td>\n",
              "      <td>27.895463</td>\n",
              "      <td>-0.041515</td>\n",
              "      <td>-1</td>\n",
              "    </tr>\n",
              "    <tr>\n",
              "      <th>176</th>\n",
              "      <td>id_527400</td>\n",
              "      <td>80667</td>\n",
              "      <td>0</td>\n",
              "      <td>52516</td>\n",
              "      <td>133182</td>\n",
              "      <td>60.6</td>\n",
              "      <td>1.459761</td>\n",
              "      <td>-0.226085</td>\n",
              "      <td>-1</td>\n",
              "    </tr>\n",
              "    <tr>\n",
              "      <th>177</th>\n",
              "      <td>id_592352</td>\n",
              "      <td>67510</td>\n",
              "      <td>0</td>\n",
              "      <td>260833</td>\n",
              "      <td>328343</td>\n",
              "      <td>20.6</td>\n",
              "      <td>2.863437</td>\n",
              "      <td>-0.356776</td>\n",
              "      <td>-1</td>\n",
              "    </tr>\n",
              "    <tr>\n",
              "      <th>178</th>\n",
              "      <td>id_499103</td>\n",
              "      <td>36109</td>\n",
              "      <td>0</td>\n",
              "      <td>19282</td>\n",
              "      <td>55391</td>\n",
              "      <td>65.2</td>\n",
              "      <td>1.398216</td>\n",
              "      <td>-0.201971</td>\n",
              "      <td>-1</td>\n",
              "    </tr>\n",
              "    <tr>\n",
              "      <th>189</th>\n",
              "      <td>id_277980</td>\n",
              "      <td>345370</td>\n",
              "      <td>0</td>\n",
              "      <td>68000</td>\n",
              "      <td>413370</td>\n",
              "      <td>83.5</td>\n",
              "      <td>1.262942</td>\n",
              "      <td>-0.178777</td>\n",
              "      <td>-1</td>\n",
              "    </tr>\n",
              "  </tbody>\n",
              "</table>\n",
              "</div>"
            ],
            "text/plain": [
              "    id_proyecto  valor_sgr  valor_nación  ...      score  score_iso  anomalo\n",
              "0     id_357417    1784417             0  ...   2.880981  -0.042052       -1\n",
              "2     id_701595    1605476             0  ...   2.197768  -0.102844       -1\n",
              "13   id_1011939     206234             0  ...   2.403295  -0.338513       -1\n",
              "19    id_324697   18193397             0  ...  33.818590  -0.407289       -1\n",
              "20    id_625428     382754             0  ...   1.295887  -0.169094       -1\n",
              "22    id_812308     157205             0  ...   1.355977  -0.135004       -1\n",
              "23   id_1028007      58488             0  ...  44.753128  -0.073201       -1\n",
              "27    id_370367     433333             0  ...   1.980259  -0.274554       -1\n",
              "46    id_290778    1276430       3333333  ...   8.114079  -0.416610       -1\n",
              "56   id_1009118     748961             0  ...  15.876063  -0.173695       -1\n",
              "62    id_638485    2499998             0  ...   3.966040  -0.134272       -1\n",
              "68    id_274220    5661035             0  ...  12.198255  -0.274632       -1\n",
              "85    id_290740     117297             0  ...   3.641329  -0.076558       -1\n",
              "107   id_496680      81170             0  ...  35.703465  -0.017110       -1\n",
              "115   id_274581     536951             0  ...   1.324214  -0.160180       -1\n",
              "167   id_290044     159688             0  ...   1.296970  -0.199181       -1\n",
              "174   id_499876     100667             0  ...  27.895463  -0.041515       -1\n",
              "176   id_527400      80667             0  ...   1.459761  -0.226085       -1\n",
              "177   id_592352      67510             0  ...   2.863437  -0.356776       -1\n",
              "178   id_499103      36109             0  ...   1.398216  -0.201971       -1\n",
              "189   id_277980     345370             0  ...   1.262942  -0.178777       -1\n",
              "\n",
              "[21 rows x 9 columns]"
            ]
          },
          "metadata": {
            "tags": []
          },
          "execution_count": 57
        }
      ]
    },
    {
      "cell_type": "code",
      "metadata": {
        "colab": {
          "base_uri": "https://localhost:8080/"
        },
        "id": "4PYLm0gvn_E4",
        "outputId": "dc754326-3b90-4198-fc73-deeb266db67a"
      },
      "source": [
        "mayor_anomalia_ISO_LOF = df2.query(\"anomalo == -1 & score>= 2\")\n",
        "len(mayor_anomalia_ISO_LOF)"
      ],
      "execution_count": null,
      "outputs": [
        {
          "output_type": "execute_result",
          "data": {
            "text/plain": [
              "13"
            ]
          },
          "metadata": {
            "tags": []
          },
          "execution_count": 58
        }
      ]
    },
    {
      "cell_type": "markdown",
      "metadata": {
        "id": "cQY02c8I8yXw"
      },
      "source": [
        "a. Por defecto, selecciona el 10% de los registros como outliers. La pregunta es: El número de proyectos que coinciden con el 10% de los proyectos con mayor LOF es: **13**"
      ]
    }
  ]
}