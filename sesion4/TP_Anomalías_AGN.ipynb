{
 "cells": [
  {
   "cell_type": "markdown",
   "id": "quiet-toddler",
   "metadata": {},
   "source": [
    "\n",
    "![alt text](https://www.agn.gob.ar/themes/agn/images/logo-blue.png \"Title\")\n",
    "# Curso de detección de anomalías - TP integrador Final<br>\n",
    "### Argentina - AGN - Equipo II\n",
    "\n",
    "> Cecilia Móndolo  `cmondolo@agn.gov.ar`<br>\n",
    "> Cristian Ferro  `cferro@agn.gov.ar`<br>\n",
    "> Mariano Parada   `mparada@agn.gov.ar`<br>"
   ]
  },
  {
   "cell_type": "code",
   "execution_count": 1,
   "id": "becoming-constitutional",
   "metadata": {},
   "outputs": [],
   "source": [
    "# jfzeac@unal.edu.co\n",
    "# asunto Curso Anomalías\n",
    "# Fecha de Entrega Domingo 25"
   ]
  },
  {
   "cell_type": "code",
   "execution_count": 2,
   "id": "straight-rainbow",
   "metadata": {},
   "outputs": [],
   "source": [
    "import numpy as np\n",
    "import pandas as pd\n",
    "import matplotlib.pyplot as plt\n",
    "from sklearn.neighbors import LocalOutlierFactor\n",
    "from sklearn.metrics import confusion_matrix\n",
    "import random\n",
    "from plotnine import ggplot, geom_point, aes, geom_abline\n",
    "from scipy import stats\n",
    "import matplotlib.pyplot as plt\n",
    "import seaborn as sns\n",
    "from scipy.stats import t, zscore\n",
    "import warnings\n",
    "warnings.filterwarnings(\"ignore\")"
   ]
  },
  {
   "cell_type": "markdown",
   "id": "useful-surname",
   "metadata": {},
   "source": [
    "### Leemos los datos desde el csv local (para que sea leído correctamente hubo que setear el encoding en latin-1)"
   ]
  },
  {
   "cell_type": "code",
   "execution_count": 3,
   "id": "naked-brush",
   "metadata": {},
   "outputs": [
    {
     "data": {
      "text/html": [
       "<div>\n",
       "<style scoped>\n",
       "    .dataframe tbody tr th:only-of-type {\n",
       "        vertical-align: middle;\n",
       "    }\n",
       "\n",
       "    .dataframe tbody tr th {\n",
       "        vertical-align: top;\n",
       "    }\n",
       "\n",
       "    .dataframe thead th {\n",
       "        text-align: right;\n",
       "    }\n",
       "</style>\n",
       "<table border=\"1\" class=\"dataframe\">\n",
       "  <thead>\n",
       "    <tr style=\"text-align: right;\">\n",
       "      <th></th>\n",
       "      <th>id_proyecto</th>\n",
       "      <th>nombre_del_proyecto</th>\n",
       "      <th>nombre_ocad</th>\n",
       "      <th>region</th>\n",
       "      <th>departamento</th>\n",
       "      <th>sector_suifp</th>\n",
       "      <th>programa</th>\n",
       "      <th>subprograma</th>\n",
       "      <th>avance_fisico</th>\n",
       "      <th>avance_financiero</th>\n",
       "      <th>estado_detalle</th>\n",
       "      <th>estado_general</th>\n",
       "      <th>anno</th>\n",
       "      <th>valor_sgr</th>\n",
       "      <th>valor_nación</th>\n",
       "      <th>valor_otros</th>\n",
       "      <th>total_proyecto</th>\n",
       "      <th>pctg_sgr</th>\n",
       "    </tr>\n",
       "  </thead>\n",
       "  <tbody>\n",
       "    <tr>\n",
       "      <th>1</th>\n",
       "      <td>id_357417</td>\n",
       "      <td>CONSTRUCCIÓN DE PLACA HUELLA EN VÍAS TERCIARIA...</td>\n",
       "      <td>Región Eje Cafetero</td>\n",
       "      <td>Eje Cafetero</td>\n",
       "      <td>Antioquia</td>\n",
       "      <td>Transporte</td>\n",
       "      <td>Infraestructura Red Vial Regional</td>\n",
       "      <td>Red Vial Terciaria</td>\n",
       "      <td>100.0</td>\n",
       "      <td>100.00</td>\n",
       "      <td>Cerrado</td>\n",
       "      <td>Terminado</td>\n",
       "      <td>2017</td>\n",
       "      <td>1784417</td>\n",
       "      <td>0</td>\n",
       "      <td>0</td>\n",
       "      <td>1784417</td>\n",
       "      <td>100.0</td>\n",
       "    </tr>\n",
       "    <tr>\n",
       "      <th>2</th>\n",
       "      <td>id_357587</td>\n",
       "      <td>CONSTRUCCIÓN DE PLACA HUELLA EN VÍAS TERCIARIA...</td>\n",
       "      <td>Región Eje Cafetero</td>\n",
       "      <td>Eje Cafetero</td>\n",
       "      <td>Antioquia</td>\n",
       "      <td>Transporte</td>\n",
       "      <td>Infraestructura Red Vial Regional</td>\n",
       "      <td>Red Vial Terciaria</td>\n",
       "      <td>100.0</td>\n",
       "      <td>100.00</td>\n",
       "      <td>Cerrado</td>\n",
       "      <td>Terminado</td>\n",
       "      <td>2017</td>\n",
       "      <td>756224</td>\n",
       "      <td>0</td>\n",
       "      <td>0</td>\n",
       "      <td>756224</td>\n",
       "      <td>100.0</td>\n",
       "    </tr>\n",
       "    <tr>\n",
       "      <th>3</th>\n",
       "      <td>id_701595</td>\n",
       "      <td>MEJORAMIENTO DE VÍAS TERCIARIAS EN LOS MUNICIP...</td>\n",
       "      <td>Región Eje Cafetero</td>\n",
       "      <td>Eje Cafetero</td>\n",
       "      <td>Antioquia</td>\n",
       "      <td>Transporte</td>\n",
       "      <td>Infraestructura Red Vial Regional</td>\n",
       "      <td>Red Vial Terciaria</td>\n",
       "      <td>100.0</td>\n",
       "      <td>99.95</td>\n",
       "      <td>Cerrado</td>\n",
       "      <td>Terminado</td>\n",
       "      <td>2018</td>\n",
       "      <td>1605476</td>\n",
       "      <td>0</td>\n",
       "      <td>333</td>\n",
       "      <td>1605809</td>\n",
       "      <td>100.0</td>\n",
       "    </tr>\n",
       "  </tbody>\n",
       "</table>\n",
       "</div>"
      ],
      "text/plain": [
       "  id_proyecto                                nombre_del_proyecto  \\\n",
       "1   id_357417  CONSTRUCCIÓN DE PLACA HUELLA EN VÍAS TERCIARIA...   \n",
       "2   id_357587  CONSTRUCCIÓN DE PLACA HUELLA EN VÍAS TERCIARIA...   \n",
       "3   id_701595  MEJORAMIENTO DE VÍAS TERCIARIAS EN LOS MUNICIP...   \n",
       "\n",
       "           nombre_ocad        region departamento sector_suifp  \\\n",
       "1  Región Eje Cafetero  Eje Cafetero    Antioquia   Transporte   \n",
       "2  Región Eje Cafetero  Eje Cafetero    Antioquia   Transporte   \n",
       "3  Región Eje Cafetero  Eje Cafetero    Antioquia   Transporte   \n",
       "\n",
       "                            programa         subprograma  avance_fisico  \\\n",
       "1  Infraestructura Red Vial Regional  Red Vial Terciaria          100.0   \n",
       "2  Infraestructura Red Vial Regional  Red Vial Terciaria          100.0   \n",
       "3  Infraestructura Red Vial Regional  Red Vial Terciaria          100.0   \n",
       "\n",
       "   avance_financiero estado_detalle estado_general  anno  valor_sgr  \\\n",
       "1             100.00        Cerrado      Terminado  2017    1784417   \n",
       "2             100.00        Cerrado      Terminado  2017     756224   \n",
       "3              99.95        Cerrado      Terminado  2018    1605476   \n",
       "\n",
       "   valor_nación  valor_otros  total_proyecto  pctg_sgr  \n",
       "1             0            0         1784417     100.0  \n",
       "2             0            0          756224     100.0  \n",
       "3             0          333         1605809     100.0  "
      ]
     },
     "execution_count": 3,
     "metadata": {},
     "output_type": "execute_result"
    }
   ],
   "source": [
    "#Leemos los datos\n",
    "df = pd.read_csv('regalias_viasterciarias.csv', index_col=[0], encoding='latin-1')\n",
    "df.head(3)"
   ]
  },
  {
   "cell_type": "markdown",
   "id": "tight-equation",
   "metadata": {},
   "source": [
    "# Punto 1\n",
    "1.\tUtilizando la metodología de Cox-Tukey lleve a cabo la identificación de proyectos de arreglos de vías terciarias con valores extremos en el total de proyectos.\n",
    "Elabore un histograma de la variable transformada."
   ]
  },
  {
   "cell_type": "markdown",
   "id": "cooperative-cholesterol",
   "metadata": {},
   "source": [
    "### Verificamos cantidad de instancias, tipos de datos, nombre de las columnas y que no hayan valores faltantes"
   ]
  },
  {
   "cell_type": "code",
   "execution_count": 4,
   "id": "challenging-player",
   "metadata": {},
   "outputs": [
    {
     "name": "stdout",
     "output_type": "stream",
     "text": [
      "<class 'pandas.core.frame.DataFrame'>\n",
      "Int64Index: 207 entries, 1 to 207\n",
      "Data columns (total 18 columns):\n",
      " #   Column               Non-Null Count  Dtype  \n",
      "---  ------               --------------  -----  \n",
      " 0   id_proyecto          207 non-null    object \n",
      " 1   nombre_del_proyecto  207 non-null    object \n",
      " 2   nombre_ocad          207 non-null    object \n",
      " 3   region               207 non-null    object \n",
      " 4   departamento         207 non-null    object \n",
      " 5   sector_suifp         207 non-null    object \n",
      " 6   programa             207 non-null    object \n",
      " 7   subprograma          207 non-null    object \n",
      " 8   avance_fisico        207 non-null    float64\n",
      " 9   avance_financiero    207 non-null    float64\n",
      " 10  estado_detalle       207 non-null    object \n",
      " 11  estado_general       207 non-null    object \n",
      " 12  anno                 207 non-null    int64  \n",
      " 13  valor_sgr            207 non-null    int64  \n",
      " 14  valor_nación         207 non-null    int64  \n",
      " 15  valor_otros          207 non-null    int64  \n",
      " 16  total_proyecto       207 non-null    int64  \n",
      " 17  pctg_sgr             207 non-null    float64\n",
      "dtypes: float64(3), int64(5), object(10)\n",
      "memory usage: 30.7+ KB\n"
     ]
    }
   ],
   "source": [
    "df.info()"
   ]
  },
  {
   "cell_type": "markdown",
   "id": "detected-nigeria",
   "metadata": {},
   "source": [
    "### Analizamos la distribución de las variables numéricas con **describe**"
   ]
  },
  {
   "cell_type": "code",
   "execution_count": 5,
   "id": "aggressive-asset",
   "metadata": {},
   "outputs": [
    {
     "data": {
      "text/html": [
       "<div>\n",
       "<style scoped>\n",
       "    .dataframe tbody tr th:only-of-type {\n",
       "        vertical-align: middle;\n",
       "    }\n",
       "\n",
       "    .dataframe tbody tr th {\n",
       "        vertical-align: top;\n",
       "    }\n",
       "\n",
       "    .dataframe thead th {\n",
       "        text-align: right;\n",
       "    }\n",
       "</style>\n",
       "<table border=\"1\" class=\"dataframe\">\n",
       "  <thead>\n",
       "    <tr style=\"text-align: right;\">\n",
       "      <th></th>\n",
       "      <th>avance_fisico</th>\n",
       "      <th>avance_financiero</th>\n",
       "      <th>anno</th>\n",
       "      <th>valor_sgr</th>\n",
       "      <th>valor_nación</th>\n",
       "      <th>valor_otros</th>\n",
       "      <th>total_proyecto</th>\n",
       "      <th>pctg_sgr</th>\n",
       "    </tr>\n",
       "  </thead>\n",
       "  <tbody>\n",
       "    <tr>\n",
       "      <th>count</th>\n",
       "      <td>207.00</td>\n",
       "      <td>207.00</td>\n",
       "      <td>207.00</td>\n",
       "      <td>207.00</td>\n",
       "      <td>207.00</td>\n",
       "      <td>207.00</td>\n",
       "      <td>207.00</td>\n",
       "      <td>207.00</td>\n",
       "    </tr>\n",
       "    <tr>\n",
       "      <th>mean</th>\n",
       "      <td>99.07</td>\n",
       "      <td>98.52</td>\n",
       "      <td>2017.71</td>\n",
       "      <td>435770.83</td>\n",
       "      <td>16103.06</td>\n",
       "      <td>4996.17</td>\n",
       "      <td>456870.06</td>\n",
       "      <td>98.01</td>\n",
       "    </tr>\n",
       "    <tr>\n",
       "      <th>std</th>\n",
       "      <td>6.38</td>\n",
       "      <td>6.84</td>\n",
       "      <td>0.87</td>\n",
       "      <td>1343965.59</td>\n",
       "      <td>231682.66</td>\n",
       "      <td>28247.36</td>\n",
       "      <td>1373224.41</td>\n",
       "      <td>9.56</td>\n",
       "    </tr>\n",
       "    <tr>\n",
       "      <th>min</th>\n",
       "      <td>22.29</td>\n",
       "      <td>21.72</td>\n",
       "      <td>2016.00</td>\n",
       "      <td>6882.00</td>\n",
       "      <td>0.00</td>\n",
       "      <td>0.00</td>\n",
       "      <td>6882.00</td>\n",
       "      <td>20.60</td>\n",
       "    </tr>\n",
       "    <tr>\n",
       "      <th>25%</th>\n",
       "      <td>100.00</td>\n",
       "      <td>99.72</td>\n",
       "      <td>2017.00</td>\n",
       "      <td>92286.00</td>\n",
       "      <td>0.00</td>\n",
       "      <td>0.00</td>\n",
       "      <td>95251.50</td>\n",
       "      <td>100.00</td>\n",
       "    </tr>\n",
       "    <tr>\n",
       "      <th>50%</th>\n",
       "      <td>100.00</td>\n",
       "      <td>99.96</td>\n",
       "      <td>2018.00</td>\n",
       "      <td>178367.00</td>\n",
       "      <td>0.00</td>\n",
       "      <td>0.00</td>\n",
       "      <td>185539.00</td>\n",
       "      <td>100.00</td>\n",
       "    </tr>\n",
       "    <tr>\n",
       "      <th>75%</th>\n",
       "      <td>100.00</td>\n",
       "      <td>99.99</td>\n",
       "      <td>2018.00</td>\n",
       "      <td>455833.00</td>\n",
       "      <td>0.00</td>\n",
       "      <td>0.00</td>\n",
       "      <td>469039.50</td>\n",
       "      <td>100.00</td>\n",
       "    </tr>\n",
       "    <tr>\n",
       "      <th>max</th>\n",
       "      <td>100.12</td>\n",
       "      <td>100.08</td>\n",
       "      <td>2020.00</td>\n",
       "      <td>18193397.00</td>\n",
       "      <td>3333333.00</td>\n",
       "      <td>260833.00</td>\n",
       "      <td>18193397.00</td>\n",
       "      <td>100.00</td>\n",
       "    </tr>\n",
       "  </tbody>\n",
       "</table>\n",
       "</div>"
      ],
      "text/plain": [
       "       avance_fisico  avance_financiero     anno    valor_sgr  valor_nación  \\\n",
       "count         207.00             207.00   207.00       207.00        207.00   \n",
       "mean           99.07              98.52  2017.71    435770.83      16103.06   \n",
       "std             6.38               6.84     0.87   1343965.59     231682.66   \n",
       "min            22.29              21.72  2016.00      6882.00          0.00   \n",
       "25%           100.00              99.72  2017.00     92286.00          0.00   \n",
       "50%           100.00              99.96  2018.00    178367.00          0.00   \n",
       "75%           100.00              99.99  2018.00    455833.00          0.00   \n",
       "max           100.12             100.08  2020.00  18193397.00    3333333.00   \n",
       "\n",
       "       valor_otros  total_proyecto  pctg_sgr  \n",
       "count       207.00          207.00    207.00  \n",
       "mean       4996.17       456870.06     98.01  \n",
       "std       28247.36      1373224.41      9.56  \n",
       "min           0.00         6882.00     20.60  \n",
       "25%           0.00        95251.50    100.00  \n",
       "50%           0.00       185539.00    100.00  \n",
       "75%           0.00       469039.50    100.00  \n",
       "max      260833.00     18193397.00    100.00  "
      ]
     },
     "execution_count": 5,
     "metadata": {},
     "output_type": "execute_result"
    }
   ],
   "source": [
    "(round(df.describe(), ndigits=2))"
   ]
  },
  {
   "cell_type": "markdown",
   "id": "recovered-choir",
   "metadata": {},
   "source": [
    "### Chequemos que todos los subprogramas sean de \"Red Vial Terciaria\""
   ]
  },
  {
   "cell_type": "code",
   "execution_count": 6,
   "id": "fifteen-empire",
   "metadata": {},
   "outputs": [
    {
     "data": {
      "text/plain": [
       "Red Vial Terciaria    207\n",
       "Name: subprograma, dtype: int64"
      ]
     },
     "execution_count": 6,
     "metadata": {},
     "output_type": "execute_result"
    }
   ],
   "source": [
    "df.subprograma.value_counts()"
   ]
  },
  {
   "cell_type": "markdown",
   "id": "sporting-guard",
   "metadata": {},
   "source": [
    "### Graficamos el histograma"
   ]
  },
  {
   "cell_type": "code",
   "execution_count": 7,
   "id": "recovered-palestinian",
   "metadata": {},
   "outputs": [
    {
     "data": {
      "text/plain": [
       "<AxesSubplot:>"
      ]
     },
     "execution_count": 7,
     "metadata": {},
     "output_type": "execute_result"
    },
    {
     "data": {
      "image/png": "[encoded data removed]",
      "text/plain": [
       "<Figure size 432x288 with 1 Axes>"
      ]
     },
     "metadata": {
      "needs_background": "light"
     },
     "output_type": "display_data"
    }
   ],
   "source": [
    "df.total_proyecto.hist()"
   ]
  },
  {
   "cell_type": "markdown",
   "id": "special-friday",
   "metadata": {},
   "source": [
    "### En base a la figura del histograma, vamos escalar los datos de \"total_proyecto\" utilizando **stats.boxcox**.\n",
    "Luego graficaremos para verificar si escalando los datos nos acercamos a una distribución normal."
   ]
  },
  {
   "cell_type": "code",
   "execution_count": 8,
   "id": "living-negotiation",
   "metadata": {},
   "outputs": [],
   "source": [
    "# Transformación de Box-Cox (Dupla: arreglo de valores transformados y lambda)\n",
    "x = df.total_proyecto\n",
    "y, fitted_lambda = stats.boxcox(x)"
   ]
  },
  {
   "cell_type": "code",
   "execution_count": 9,
   "id": "electoral-anderson",
   "metadata": {},
   "outputs": [
    {
     "data": {
      "image/png": "[encoded data removed]",
      "text/plain": [
       "<Figure size 720x360 with 2 Axes>"
      ]
     },
     "metadata": {
      "needs_background": "light"
     },
     "output_type": "display_data"
    }
   ],
   "source": [
    "# crear ejes para el gráfico: 1 fila 2 columnas\n",
    "fig, ax = plt.subplots(1, 2)\n",
    "# graficando la variable en su manera original y luego de transformada\n",
    "sns.distplot(x, hist = False, kde = True,\n",
    "kde_kws = {'shade': True, 'linewidth': 2},\n",
    "label = \"Non-Normal\", color =\"green\", ax = ax[0])\n",
    "sns.distplot(y, hist = False, kde = True,\n",
    "kde_kws = {'shade': True, 'linewidth': 2},\n",
    "label = \"Normal\", color =\"green\", ax = ax[1])\n",
    "# Anadiendo leyenda a los gráficos\n",
    "plt.legend(loc = \"upper right\")\n",
    "# re-escalando los subplots\n",
    "fig.set_figheight(5)\n",
    "fig.set_figwidth(10)\n",
    "plt.show()\n",
    "# Se restituyen los valores a 1 fila 1 columna para los plots\n",
    "#fig, ax = plt.subplots(1, 1)"
   ]
  },
  {
   "cell_type": "markdown",
   "id": "warming-batman",
   "metadata": {},
   "source": [
    "a.\tEl valor de lambda es -0.051858459461380214"
   ]
  },
  {
   "cell_type": "code",
   "execution_count": 10,
   "id": "southeast-michigan",
   "metadata": {},
   "outputs": [
    {
     "name": "stdout",
     "output_type": "stream",
     "text": [
      "El valor de Lambda utilizado para la transformación es : -0.051858459461380214\n"
     ]
    }
   ],
   "source": [
    "print(f\"El valor de Lambda utilizado para la transformación es : {fitted_lambda}\")"
   ]
  },
  {
   "cell_type": "markdown",
   "id": "occupied-terrorism",
   "metadata": {},
   "source": [
    "b.\tIdentifique una vez estén los valores transformados los outliers detectados con la regla de Tukey (utilice un valor de k igual a 1,5). El número de valores extremos identificados es: 4"
   ]
  },
  {
   "cell_type": "code",
   "execution_count": 11,
   "id": "expired-belief",
   "metadata": {},
   "outputs": [],
   "source": [
    "# Esta función recibe dos parámetros, \"x\" que es el conjunto de datos, y \"k\" que es el rango.\n",
    "def fivenum(x, k, nan_remove = True):\n",
    "  \"\"\"Devuelve los cinco números de Tukey (mínimo, bigote inferior, mediana,\n",
    "  bigote superior, maximo) para una lista, arreglo univariado de numpy o serie de pandas\"\"\"\n",
    "\n",
    "  if(isinstance(x, list)):\n",
    "        x = np.array(x)\n",
    "  try:\n",
    "        np.sum(x)\n",
    "  except TypeError :\n",
    "        print('Error: debe proveer una lista o un arreglo de sólo números')\n",
    "  if (nan_remove == True):\n",
    "        y = x[~np.isnan(x)]\n",
    "        q1 = np.percentile(y, 25)\n",
    "        q3 = np.percentile(y,75)\n",
    "        md = np.median(y)\n",
    "        RI = q3-q1\n",
    "        lower_whisker = q1 - k * RI\n",
    "        upper_whisker = q3 + k * RI\n",
    "        lower_whisker = np.max([lower_whisker, np.min(y)])\n",
    "        upper_whisker = np.min([upper_whisker, np.max(y)])\n",
    "\n",
    "  else:\n",
    "        q1 = np.percentile(x, 25)\n",
    "        q3 = np.percentile(x,75)\n",
    "        md = np.median(x)\n",
    "        RI = q3-q1\n",
    "        lower_whisker = q1 - k * RI\n",
    "        upper_whisker = q3 + k * RI\n",
    "        lower_whisker = np.max([lower_whisker, np.min(x)])\n",
    "        upper_whisker = np.min([upper_whisker, np.max(x)])\n",
    "\n",
    "  salida = np.array([lower_whisker, q1, md, q3, upper_whisker])\n",
    "  return [salida]"
   ]
  },
  {
   "cell_type": "code",
   "execution_count": 12,
   "id": "spatial-universe",
   "metadata": {},
   "outputs": [
    {
     "data": {
      "text/html": [
       "<div>\n",
       "<style scoped>\n",
       "    .dataframe tbody tr th:only-of-type {\n",
       "        vertical-align: middle;\n",
       "    }\n",
       "\n",
       "    .dataframe tbody tr th {\n",
       "        vertical-align: top;\n",
       "    }\n",
       "\n",
       "    .dataframe thead th {\n",
       "        text-align: right;\n",
       "    }\n",
       "</style>\n",
       "<table border=\"1\" class=\"dataframe\">\n",
       "  <thead>\n",
       "    <tr style=\"text-align: right;\">\n",
       "      <th></th>\n",
       "      <th>id_proyecto</th>\n",
       "      <th>nombre_del_proyecto</th>\n",
       "      <th>nombre_ocad</th>\n",
       "      <th>region</th>\n",
       "      <th>departamento</th>\n",
       "      <th>sector_suifp</th>\n",
       "      <th>programa</th>\n",
       "      <th>subprograma</th>\n",
       "      <th>avance_fisico</th>\n",
       "      <th>avance_financiero</th>\n",
       "      <th>estado_detalle</th>\n",
       "      <th>estado_general</th>\n",
       "      <th>anno</th>\n",
       "      <th>valor_sgr</th>\n",
       "      <th>valor_nación</th>\n",
       "      <th>valor_otros</th>\n",
       "      <th>total_proyecto</th>\n",
       "      <th>pctg_sgr</th>\n",
       "      <th>total_proyectos_std</th>\n",
       "    </tr>\n",
       "  </thead>\n",
       "  <tbody>\n",
       "    <tr>\n",
       "      <th>1</th>\n",
       "      <td>id_357417</td>\n",
       "      <td>CONSTRUCCIÓN DE PLACA HUELLA EN VÍAS TERCIARIA...</td>\n",
       "      <td>Región Eje Cafetero</td>\n",
       "      <td>Eje Cafetero</td>\n",
       "      <td>Antioquia</td>\n",
       "      <td>Transporte</td>\n",
       "      <td>Infraestructura Red Vial Regional</td>\n",
       "      <td>Red Vial Terciaria</td>\n",
       "      <td>100.0</td>\n",
       "      <td>100.00</td>\n",
       "      <td>Cerrado</td>\n",
       "      <td>Terminado</td>\n",
       "      <td>2017</td>\n",
       "      <td>1784417</td>\n",
       "      <td>0</td>\n",
       "      <td>0</td>\n",
       "      <td>1784417</td>\n",
       "      <td>100.0</td>\n",
       "      <td>10.142389</td>\n",
       "    </tr>\n",
       "    <tr>\n",
       "      <th>2</th>\n",
       "      <td>id_357587</td>\n",
       "      <td>CONSTRUCCIÓN DE PLACA HUELLA EN VÍAS TERCIARIA...</td>\n",
       "      <td>Región Eje Cafetero</td>\n",
       "      <td>Eje Cafetero</td>\n",
       "      <td>Antioquia</td>\n",
       "      <td>Transporte</td>\n",
       "      <td>Infraestructura Red Vial Regional</td>\n",
       "      <td>Red Vial Terciaria</td>\n",
       "      <td>100.0</td>\n",
       "      <td>100.00</td>\n",
       "      <td>Cerrado</td>\n",
       "      <td>Terminado</td>\n",
       "      <td>2017</td>\n",
       "      <td>756224</td>\n",
       "      <td>0</td>\n",
       "      <td>0</td>\n",
       "      <td>756224</td>\n",
       "      <td>100.0</td>\n",
       "      <td>9.726234</td>\n",
       "    </tr>\n",
       "    <tr>\n",
       "      <th>3</th>\n",
       "      <td>id_701595</td>\n",
       "      <td>MEJORAMIENTO DE VÍAS TERCIARIAS EN LOS MUNICIP...</td>\n",
       "      <td>Región Eje Cafetero</td>\n",
       "      <td>Eje Cafetero</td>\n",
       "      <td>Antioquia</td>\n",
       "      <td>Transporte</td>\n",
       "      <td>Infraestructura Red Vial Regional</td>\n",
       "      <td>Red Vial Terciaria</td>\n",
       "      <td>100.0</td>\n",
       "      <td>99.95</td>\n",
       "      <td>Cerrado</td>\n",
       "      <td>Terminado</td>\n",
       "      <td>2018</td>\n",
       "      <td>1605476</td>\n",
       "      <td>0</td>\n",
       "      <td>333</td>\n",
       "      <td>1605809</td>\n",
       "      <td>100.0</td>\n",
       "      <td>10.092259</td>\n",
       "    </tr>\n",
       "  </tbody>\n",
       "</table>\n",
       "</div>"
      ],
      "text/plain": [
       "  id_proyecto                                nombre_del_proyecto  \\\n",
       "1   id_357417  CONSTRUCCIÓN DE PLACA HUELLA EN VÍAS TERCIARIA...   \n",
       "2   id_357587  CONSTRUCCIÓN DE PLACA HUELLA EN VÍAS TERCIARIA...   \n",
       "3   id_701595  MEJORAMIENTO DE VÍAS TERCIARIAS EN LOS MUNICIP...   \n",
       "\n",
       "           nombre_ocad        region departamento sector_suifp  \\\n",
       "1  Región Eje Cafetero  Eje Cafetero    Antioquia   Transporte   \n",
       "2  Región Eje Cafetero  Eje Cafetero    Antioquia   Transporte   \n",
       "3  Región Eje Cafetero  Eje Cafetero    Antioquia   Transporte   \n",
       "\n",
       "                            programa         subprograma  avance_fisico  \\\n",
       "1  Infraestructura Red Vial Regional  Red Vial Terciaria          100.0   \n",
       "2  Infraestructura Red Vial Regional  Red Vial Terciaria          100.0   \n",
       "3  Infraestructura Red Vial Regional  Red Vial Terciaria          100.0   \n",
       "\n",
       "   avance_financiero estado_detalle estado_general  anno  valor_sgr  \\\n",
       "1             100.00        Cerrado      Terminado  2017    1784417   \n",
       "2             100.00        Cerrado      Terminado  2017     756224   \n",
       "3              99.95        Cerrado      Terminado  2018    1605476   \n",
       "\n",
       "   valor_nación  valor_otros  total_proyecto  pctg_sgr  total_proyectos_std  \n",
       "1             0            0         1784417     100.0            10.142389  \n",
       "2             0            0          756224     100.0             9.726234  \n",
       "3             0          333         1605809     100.0            10.092259  "
      ]
     },
     "execution_count": 12,
     "metadata": {},
     "output_type": "execute_result"
    }
   ],
   "source": [
    "df['total_proyectos_std'] = y\n",
    "df.head(3)"
   ]
  },
  {
   "cell_type": "markdown",
   "id": "preceding-pizza",
   "metadata": {},
   "source": [
    "### Usamos la función fivenum pasandole como perámetros total_proyectos_std y como k= 1.5 e imprimimos los 5 números de Tukey:"
   ]
  },
  {
   "cell_type": "code",
   "execution_count": 13,
   "id": "moderate-feeding",
   "metadata": {},
   "outputs": [
    {
     "data": {
      "text/plain": [
       "[array([ 7.37585734,  8.64218714,  9.00386433,  9.48640701, 10.7527368 ])]"
      ]
     },
     "execution_count": 13,
     "metadata": {},
     "output_type": "execute_result"
    }
   ],
   "source": [
    "nros_tukey = fivenum(df.total_proyectos_std,1.5)\n",
    "nros_tukey"
   ]
  },
  {
   "cell_type": "code",
   "execution_count": 14,
   "id": "surface-refund",
   "metadata": {},
   "outputs": [],
   "source": [
    "df['outlier_proyectos'] = df['total_proyectos_std'].apply(lambda x: 'outlier' if (x < nros_tukey[0][0]) | (x > nros_tukey[0][4]) else 'no_outlier')"
   ]
  },
  {
   "cell_type": "code",
   "execution_count": 15,
   "id": "dried-spotlight",
   "metadata": {},
   "outputs": [],
   "source": [
    "# Contamos los outliers:\n",
    "outliers = df.outlier_proyectos[df.outlier_proyectos =='outlier'].count()"
   ]
  },
  {
   "cell_type": "code",
   "execution_count": 16,
   "id": "second-chorus",
   "metadata": {},
   "outputs": [
    {
     "name": "stdout",
     "output_type": "stream",
     "text": [
      "El número de valores extremos identificados según los números de Tukey es de:  4\n"
     ]
    }
   ],
   "source": [
    "print (\"El número de valores extremos identificados según los números de Tukey es de: \", outliers)"
   ]
  },
  {
   "cell_type": "markdown",
   "id": "occupied-ceramic",
   "metadata": {},
   "source": [
    "c.\tSi repite el valor de b con k = 3. El número de valores extremos es:<BR>"
   ]
  },
  {
   "cell_type": "code",
   "execution_count": 17,
   "id": "introductory-sleeve",
   "metadata": {},
   "outputs": [
    {
     "data": {
      "text/plain": [
       "[array([ 7.08880133,  8.64218714,  9.00386433,  9.48640701, 11.17938738])]"
      ]
     },
     "execution_count": 17,
     "metadata": {},
     "output_type": "execute_result"
    }
   ],
   "source": [
    "nros_tukey = fivenum(df.total_proyectos_std,3)\n",
    "nros_tukey"
   ]
  },
  {
   "cell_type": "code",
   "execution_count": 18,
   "id": "differential-replica",
   "metadata": {},
   "outputs": [
    {
     "data": {
      "text/plain": [
       "no_outlier    207\n",
       "Name: outlier_proyectos, dtype: int64"
      ]
     },
     "execution_count": 18,
     "metadata": {},
     "output_type": "execute_result"
    }
   ],
   "source": [
    "df['outlier_proyectos'] = df['total_proyectos_std'].apply(lambda x: 'outlier' if (x < nros_tukey[0][0]) | (x > nros_tukey[0][4]) else 'no_outlier')\n",
    "df.outlier_proyectos.value_counts()"
   ]
  },
  {
   "cell_type": "markdown",
   "id": "laughing-price",
   "metadata": {},
   "source": [
    "Al cambiar el rango de 1.5 a 3, no se detectan outliers."
   ]
  },
  {
   "cell_type": "markdown",
   "id": "subsequent-stream",
   "metadata": {},
   "source": [
    "# Punto 2"
   ]
  },
  {
   "cell_type": "markdown",
   "id": "existing-palestine",
   "metadata": {},
   "source": [
    "2.\tConsidere las variables valor_sgr, valor_nación, valor_otros, total_proyecto, \n",
    "Y pctg_sgr, lleve a cabo la identificación de valores outliers utilizando la medida de identificación de outliers “local_outlier factor”.  Considere un 10% de valores anómalos\n"
   ]
  },
  {
   "cell_type": "code",
   "execution_count": 19,
   "id": "lesser-controversy",
   "metadata": {},
   "outputs": [],
   "source": [
    "from sklearn.neighbors import LocalOutlierFactor\n",
    "from sklearn.metrics import confusion_matrix\n",
    "from plotnine import ggplot, geom_point, aes, geom_abline\n",
    "from sklearn import preprocessing"
   ]
  },
  {
   "cell_type": "code",
   "execution_count": 20,
   "id": "inclusive-disclosure",
   "metadata": {},
   "outputs": [],
   "source": [
    "# ajuste el modelo\n",
    "df_lof = df[[\"valor_sgr\", \"valor_nación\", \"valor_otros\", \"total_proyecto\", \"pctg_sgr\"]]\n",
    "# Usamos preprocessing.scale de SkLearn para llevar los valores de las 5 columnas a valores comparables\n",
    "# sino estaremos comparando variables con valores inliers muy disímiles\n",
    "df_estandariz = preprocessing.scale(df_lof)\n",
    "# El scale devuelve arrays por lo que tenemos que rearmar el DataFrame\n",
    "df_estandariz = pd.DataFrame(data=df_estandariz,columns=[\"valor_sgr\", \"valor_nación\", \"valor_otros\", \"total_proyecto\", \"pctg_sgr\"])\n",
    "clf = LocalOutlierFactor(n_neighbors = 5, contamination = 0.1) # esto es para que identifique un 10% de datos outliers\n",
    "# use fit_predict para calcular el número de errores al comparar\n",
    "y_pred = clf.fit_predict(df_estandariz)\n",
    "#Agregamos una columna que identifica los outlayers y le asignamos el resultado de y_pred\n",
    "df_lof['outlier'] = y_pred\n",
    "#Contamos la cantidad de outliers"
   ]
  },
  {
   "cell_type": "markdown",
   "id": "tested-result",
   "metadata": {},
   "source": [
    "# a.\tEl número de valores outliers identificados son:"
   ]
  },
  {
   "cell_type": "code",
   "execution_count": 21,
   "id": "dangerous-black",
   "metadata": {},
   "outputs": [
    {
     "name": "stdout",
     "output_type": "stream",
     "text": [
      "Los outliers son:  20\n"
     ]
    }
   ],
   "source": [
    "print(\"Los outliers son: \", len(df_lof[df_lof.outlier == -1]))"
   ]
  },
  {
   "cell_type": "code",
   "execution_count": 22,
   "id": "complex-pound",
   "metadata": {},
   "outputs": [],
   "source": [
    "#Generamos los valores de densidad de LOF y los agregamos a una columna\n",
    "X_scores = clf.negative_outlier_factor_\n",
    "df_lof['xscore'] = X_scores"
   ]
  },
  {
   "cell_type": "markdown",
   "id": "opposed-spiritual",
   "metadata": {},
   "source": [
    "### Algunas conversiones :"
   ]
  },
  {
   "cell_type": "code",
   "execution_count": 23,
   "id": "designed-competition",
   "metadata": {},
   "outputs": [],
   "source": [
    "#Convertimos el SCORE a positivo:\n",
    "df_lof['xscore'] =  df_lof['xscore']*-1\n",
    "#Pegamos ID_PROYECTO al DataFrame transformado\n",
    "df_lof['id_proyecto'] = df['id_proyecto']\n",
    "#Agregamos el nombre del proyecto del dataframe original\n",
    "df_lof['nombre_del_proyecto'] = df['nombre_del_proyecto']"
   ]
  },
  {
   "cell_type": "markdown",
   "id": "desperate-monitoring",
   "metadata": {},
   "source": [
    "### Analizamos la distribucion de valores del Xscore"
   ]
  },
  {
   "cell_type": "code",
   "execution_count": 24,
   "id": "italic-minutes",
   "metadata": {},
   "outputs": [
    {
     "data": {
      "text/plain": [
       "count    207.000000\n",
       "mean       2.081988\n",
       "std        5.090888\n",
       "min        0.912773\n",
       "25%        0.989901\n",
       "50%        1.044030\n",
       "75%        1.227510\n",
       "max       44.753128\n",
       "Name: xscore, dtype: float64"
      ]
     },
     "execution_count": 24,
     "metadata": {},
     "output_type": "execute_result"
    }
   ],
   "source": [
    "df_lof['xscore'].describe()"
   ]
  },
  {
   "cell_type": "markdown",
   "id": "quantitative-smith",
   "metadata": {},
   "source": [
    "# b. El proyecto con mayor valor LOF es: 1028007"
   ]
  },
  {
   "cell_type": "code",
   "execution_count": 25,
   "id": "simple-knock",
   "metadata": {},
   "outputs": [
    {
     "name": "stdout",
     "output_type": "stream",
     "text": [
      "La mayor densidad LOF es:  44.75312804506973\n"
     ]
    }
   ],
   "source": [
    "#guardamos el proyecto en otra variable:\n",
    "df_mayor = df_lof.loc[24]\n",
    "print(\"La mayor densidad LOF es: \", df_mayor.xscore)"
   ]
  },
  {
   "cell_type": "code",
   "execution_count": 26,
   "id": "sticky-linux",
   "metadata": {},
   "outputs": [
    {
     "name": "stdout",
     "output_type": "stream",
     "text": [
      "El proyecto cuya densidad LOF es mayor es:  id_1028007\n"
     ]
    }
   ],
   "source": [
    "print(\"El proyecto cuya densidad LOF es mayor es: \", df_mayor.id_proyecto)"
   ]
  },
  {
   "cell_type": "code",
   "execution_count": 27,
   "id": "rural-education",
   "metadata": {},
   "outputs": [
    {
     "name": "stdout",
     "output_type": "stream",
     "text": [
      "Información del proyecto:  valor_sgr                                                          58488\n",
      "valor_nación                                                           0\n",
      "valor_otros                                                         3509\n",
      "total_proyecto                                                     61997\n",
      "pctg_sgr                                                            94.3\n",
      "outlier                                                               -1\n",
      "xscore                                                         44.753128\n",
      "id_proyecto                                                   id_1028007\n",
      "nombre_del_proyecto    MEJORAMIENTO DE LA VÍA LLUVIOSOS - ESCALONES, ...\n",
      "Name: 24, dtype: object\n"
     ]
    }
   ],
   "source": [
    "print(\"Información del proyecto: \", df_mayor)"
   ]
  },
  {
   "cell_type": "markdown",
   "id": "lyric-logistics",
   "metadata": {},
   "source": [
    "\n",
    "\n"
   ]
  },
  {
   "cell_type": "markdown",
   "id": "harmful-knowing",
   "metadata": {},
   "source": [
    "# c.\tUtilizando las mismas variables identifique los proyectos de regalías con un valor de LOF mayor a 3.  El número de valores outliers identificados son:"
   ]
  },
  {
   "cell_type": "code",
   "execution_count": 28,
   "id": "suspected-result",
   "metadata": {},
   "outputs": [
    {
     "data": {
      "text/plain": [
       "20     MEJORAMIENTO EN PAVIMENTO ASFÁLTICO DE LA VÍA ...\n",
       "24     MEJORAMIENTO DE LA VÍA LLUVIOSOS - ESCALONES, ...\n",
       "47     MEJORAMIENTO DE VÍAS TERCIARIAS, MEDIANTE EL U...\n",
       "57     FORTALECIMIENTO DE LA INTERCOMUNICACIÓN REGION...\n",
       "63     MEJORAMIENTO DE LA VÍA TERCIARIA LOS MARTÍNEZ ...\n",
       "69     FORTALECIMIENTO SOCIOECONOMICO REGIONAL MEDIAN...\n",
       "86     MEJORAMIENTO DE LA VÍA RURAL DE LAS BOCAS A LO...\n",
       "108    MEJORAMIENTO DE LA VÍA QUE CONDUCE DE LENGUAZA...\n",
       "165    MEJORAMIENTO DE VÍAS TERCIARIAS MEDIANTE EL US...\n",
       "175    MEJORAMIENTO DE VIAS TERCIARIAS, CONSISTENTE E...\n",
       "Name: nombre_del_proyecto, dtype: object"
      ]
     },
     "execution_count": 28,
     "metadata": {},
     "output_type": "execute_result"
    }
   ],
   "source": [
    "# Filtramos los proyectos cuyo LOF sea mayor a 3\n",
    "df_lof.nombre_del_proyecto[df_lof.xscore > 3]"
   ]
  },
  {
   "cell_type": "code",
   "execution_count": 29,
   "id": "alpha-center",
   "metadata": {},
   "outputs": [
    {
     "data": {
      "text/plain": [
       "10"
      ]
     },
     "execution_count": 29,
     "metadata": {},
     "output_type": "execute_result"
    }
   ],
   "source": [
    "len (df_lof[df_lof.xscore > 3])"
   ]
  },
  {
   "cell_type": "markdown",
   "id": "exempt-librarian",
   "metadata": {},
   "source": [
    "# 3.\tConsidere las variables valor_sgr, valor_nación, valor_otros, total_proyecto, Y pctg_sgr, lleve a cabo la identificación de valores outliers utilizando isolation forest.\n",
    "a. Por defecto, selecciona el 10% de los registros como outliers. La pregunta es: El número de proyectos que coinciden con el 10% de los proyectos con mayor LOF es: "
   ]
  },
  {
   "cell_type": "code",
   "execution_count": 30,
   "id": "satisfactory-inflation",
   "metadata": {},
   "outputs": [],
   "source": [
    "#Importamos las librerías\n",
    "from sklearn.ensemble import IsolationForest\n",
    "import warnings\n",
    "warnings.filterwarnings(\"ignore\")"
   ]
  },
  {
   "cell_type": "code",
   "execution_count": 31,
   "id": "applicable-burns",
   "metadata": {},
   "outputs": [],
   "source": [
    "#Instanciamos IsolationForest con una contaminación del 10%\n",
    "model=IsolationForest(n_estimators = 50, contamination = float(0.1), max_features = 1.0,max_samples = 'auto')"
   ]
  },
  {
   "cell_type": "code",
   "execution_count": 32,
   "id": "corporate-mercy",
   "metadata": {},
   "outputs": [
    {
     "data": {
      "text/plain": [
       "IsolationForest(contamination=0.1, n_estimators=50)"
      ]
     },
     "execution_count": 32,
     "metadata": {},
     "output_type": "execute_result"
    }
   ],
   "source": [
    "#Seleccionamos las columnas a utilizar y las guardamos en df_isolation\n",
    "df_isolation = df_lof[[\"valor_sgr\", \"valor_nación\", \"valor_otros\", \"total_proyecto\", \"pctg_sgr\"]]\n",
    "model.fit(df_isolation)"
   ]
  },
  {
   "cell_type": "code",
   "execution_count": 33,
   "id": "superb-sally",
   "metadata": {},
   "outputs": [],
   "source": [
    "#Agregamos el id y nombre del proyecto al nuevo DataFrame\n",
    "df_isolation['id_proyecto'] = df_lof['id_proyecto']\n",
    "df_isolation['nombre_del_proyecto'] = df_lof['nombre_del_proyecto']"
   ]
  },
  {
   "cell_type": "code",
   "execution_count": 34,
   "id": "integrated-steps",
   "metadata": {},
   "outputs": [],
   "source": [
    "#Utilizamos los métodos decision_function y predict para crear las columnas : puntaje y anomalo\n",
    "df_isolation['puntaje'] = model.decision_function(df_isolation[[\"valor_sgr\", \"valor_nación\", \"valor_otros\", \"total_proyecto\", \"pctg_sgr\"]])\n",
    "df_isolation['anomalo'] = model.predict(df_isolation[[\"valor_sgr\", \"valor_nación\", \"valor_otros\", \"total_proyecto\", \"pctg_sgr\"]])"
   ]
  },
  {
   "cell_type": "code",
   "execution_count": 35,
   "id": "rural-patrick",
   "metadata": {},
   "outputs": [
    {
     "data": {
      "text/plain": [
       " 1    186\n",
       "-1     21\n",
       "Name: anomalo, dtype: int64"
      ]
     },
     "execution_count": 35,
     "metadata": {},
     "output_type": "execute_result"
    }
   ],
   "source": [
    "#Contamos la cantidad de instancias inlier (1) y outlier (-1)\n",
    "df_isolation.anomalo.value_counts()"
   ]
  },
  {
   "cell_type": "markdown",
   "id": "social-friendly",
   "metadata": {},
   "source": [
    "# Comparamos si los proyectos outlier de ambos procesos (LOF e IsolationForest) coinciden:"
   ]
  },
  {
   "cell_type": "code",
   "execution_count": 36,
   "id": "accurate-spring",
   "metadata": {},
   "outputs": [],
   "source": [
    "#Guardamos los id_proyecto como indice\n",
    "df_lof.index = df_lof.id_proyecto\n",
    "df_isolation.index = df_isolation.id_proyecto"
   ]
  },
  {
   "cell_type": "markdown",
   "id": "constitutional-spell",
   "metadata": {},
   "source": [
    "### Unimos ambos datasets (df_isolation & df_lof)"
   ]
  },
  {
   "cell_type": "code",
   "execution_count": 37,
   "id": "molecular-custody",
   "metadata": {},
   "outputs": [],
   "source": [
    "df_unidos = pd.concat([df_lof,df_isolation], axis=1)"
   ]
  },
  {
   "cell_type": "markdown",
   "id": "similar-matter",
   "metadata": {},
   "source": [
    "### Guardo en df_coinciden aquellos proyectos detectados como anómalos por ambos procedimientos"
   ]
  },
  {
   "cell_type": "code",
   "execution_count": 38,
   "id": "moral-ending",
   "metadata": {},
   "outputs": [],
   "source": [
    "df_coinciden = df_unidos[(df_unidos.anomalo == -1) & (df_unidos.outlier == -1)]"
   ]
  },
  {
   "cell_type": "code",
   "execution_count": 39,
   "id": "manufactured-forwarding",
   "metadata": {},
   "outputs": [
    {
     "name": "stdout",
     "output_type": "stream",
     "text": [
      "La cantidad de proyectos que son considerados outliers por ambos métodos son:  14\n"
     ]
    }
   ],
   "source": [
    "print(\"La cantidad de proyectos que son considerados outliers por ambos métodos son: \", len(df_coinciden))"
   ]
  },
  {
   "cell_type": "markdown",
   "id": "tropical-calculator",
   "metadata": {},
   "source": [
    "# En resumen ...\n",
    "**En el punto 1 identificamos outliers para la variable  total_proyectos encontrando:**"
   ]
  },
  {
   "cell_type": "code",
   "execution_count": 40,
   "id": "equivalent-brush",
   "metadata": {
    "jupyter": {
     "source_hidden": true
    }
   },
   "outputs": [
    {
     "name": "stdout",
     "output_type": "stream",
     "text": [
      "a) con Tukey con un valor k=1.5 :  4  outliers\n"
     ]
    }
   ],
   "source": [
    "print (\"a) con Tukey con un valor k=1.5 : \", outliers, \" outliers\")"
   ]
  },
  {
   "cell_type": "code",
   "execution_count": 41,
   "id": "informational-expert",
   "metadata": {
    "jupyter": {
     "source_hidden": true
    }
   },
   "outputs": [
    {
     "name": "stdout",
     "output_type": "stream",
     "text": [
      "b) con Tukey con un valor k=3 :  0 outliers\n"
     ]
    }
   ],
   "source": [
    "print(\"b) con Tukey con un valor k=3 : \", len(df[df.outlier_proyectos == 'outlier']) , \"outliers\")"
   ]
  },
  {
   "cell_type": "markdown",
   "id": "other-breast",
   "metadata": {},
   "source": [
    "**En el punto 2 utilizamos Local Outlier Factor y encontramos:**"
   ]
  },
  {
   "cell_type": "code",
   "execution_count": 42,
   "id": "trained-visit",
   "metadata": {
    "jupyter": {
     "source_hidden": true
    }
   },
   "outputs": [
    {
     "name": "stdout",
     "output_type": "stream",
     "text": [
      "a) Que utilizando un LOF con 5 vecinos y 10% de contaminación se identifican  20  outliers\n"
     ]
    }
   ],
   "source": [
    "print(\"a) Que utilizando un LOF con 5 vecinos y 10% de contaminación se identifican \", df_lof.outlier[df_lof.outlier == -1].count(), \" outliers\")"
   ]
  },
  {
   "cell_type": "code",
   "execution_count": 43,
   "id": "large-creativity",
   "metadata": {
    "jupyter": {
     "source_hidden": true
    }
   },
   "outputs": [
    {
     "name": "stdout",
     "output_type": "stream",
     "text": [
      "b) El proyecto cuya densidad LOF es mayor es:  id_1028007   con una densidad de:  44.75312804506973  -  MEJORAMIENTO DE LA VÍA LLUVIOSOS - ESCALONES, SECTOR LA CRUZ DEL MUNICIPIO DE CUCAITA -   BOYACÁ\n"
     ]
    }
   ],
   "source": [
    "print(\"b) El proyecto cuya densidad LOF es mayor es: \", df_mayor.id_proyecto , \"  con una densidad de: \", df_mayor.xscore ,\" - \", df_mayor.nombre_del_proyecto)"
   ]
  },
  {
   "cell_type": "code",
   "execution_count": 44,
   "id": "parental-florence",
   "metadata": {
    "jupyter": {
     "source_hidden": true
    }
   },
   "outputs": [
    {
     "name": "stdout",
     "output_type": "stream",
     "text": [
      "c) Que la cantidad de proyectos con un LOF mayor a 3 es de  : 10  proyectos\n"
     ]
    }
   ],
   "source": [
    "print(\"c) Que la cantidad de proyectos con un LOF mayor a 3 es de  :\", len(df_lof.nombre_del_proyecto[df_lof.xscore > 3]), \" proyectos\")"
   ]
  },
  {
   "cell_type": "markdown",
   "id": "photographic-peter",
   "metadata": {},
   "source": [
    "**Y finalmente en el punto 3, utilizamos IsolationForest de Sklearn para buscar valores anómalos encontrando:**"
   ]
  },
  {
   "cell_type": "code",
   "execution_count": 45,
   "id": "remarkable-criterion",
   "metadata": {
    "jupyter": {
     "source_hidden": true
    }
   },
   "outputs": [
    {
     "name": "stdout",
     "output_type": "stream",
     "text": [
      "a) Que con 50 estimaciones y un 10% de contaminación encontramos :  21  proyectos anómalos\n"
     ]
    }
   ],
   "source": [
    "print(\"a) Que con 50 estimaciones y un 10% de contaminación encontramos : \",len(df_isolation[df_isolation.anomalo == -1]), \" proyectos anómalos\")"
   ]
  },
  {
   "cell_type": "code",
   "execution_count": 46,
   "id": "lasting-malaysia",
   "metadata": {
    "jupyter": {
     "source_hidden": true
    }
   },
   "outputs": [
    {
     "name": "stdout",
     "output_type": "stream",
     "text": [
      "b) Que la cantidad de proyectos que son considerados outliers por ambos métodos son:  14\n"
     ]
    }
   ],
   "source": [
    "print(\"b) Que la cantidad de proyectos que son considerados outliers por ambos métodos son: \", len(df_coinciden))\n"
   ]
  },
  {
   "cell_type": "markdown",
   "id": "reverse-stations",
   "metadata": {},
   "source": [
    "![alt text](https://i.pinimg.com/originals/af/6e/70/af6e70f8363e2036713d10e08a9d8806.gif \"Title\")\n",
    "<br><br><br><br>\n",
    "### Agradecemos su tiempo y predisposición y aguardamos sus comentarios. Muchas gracias !\n",
    "> Cecilia Móndolo  `cmondolo@agn.gov.ar`<br>\n",
    "> Cristian Ferro  `cferro@agn.gov.ar`<br>\n",
    "> Mariano Parada   `mparada@agn.gov.ar`<br>"
   ]
  }
 ],
 "metadata": {
  "kernelspec": {
   "display_name": "Python 3",
   "language": "python",
   "name": "python3"
  },
  "language_info": {
   "codemirror_mode": {
    "name": "ipython",
    "version": 3
   },
   "file_extension": ".py",
   "mimetype": "text/x-python",
   "name": "python",
   "nbconvert_exporter": "python",
   "pygments_lexer": "ipython3",
   "version": "3.8.5"
  }
 },
 "nbformat": 4,
 "nbformat_minor": 5
}
